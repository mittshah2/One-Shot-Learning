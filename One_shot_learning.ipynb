{
  "nbformat": 4,
  "nbformat_minor": 0,
  "metadata": {
    "colab": {
      "name": "One shot learning.ipynb",
      "provenance": [],
      "collapsed_sections": [],
      "mount_file_id": "1udQtkZlojejNqlohkLNthp7oFlolO_3H",
      "authorship_tag": "ABX9TyPYHXeCTyIpbxhY4DqtxDry",
      "include_colab_link": true
    },
    "kernelspec": {
      "name": "python3",
      "display_name": "Python 3"
    },
    "accelerator": "GPU"
  },
  "cells": [
    {
      "cell_type": "markdown",
      "metadata": {
        "id": "view-in-github",
        "colab_type": "text"
      },
      "source": [
        "<a href=\"https://colab.research.google.com/github/mittshah2/One-Shot-Learning/blob/dev/One_shot_learning.ipynb\" target=\"_parent\"><img src=\"https://colab.research.google.com/assets/colab-badge.svg\" alt=\"Open In Colab\"/></a>"
      ]
    },
    {
      "cell_type": "code",
      "metadata": {
        "id": "nWM70RHhp_DR",
        "colab_type": "code",
        "colab": {}
      },
      "source": [
        "# !unzip -uq '/content/drive/My Drive/one shot learning/train.zip' -d '/content'\n",
        "# !unzip -uq '/content/drive/My Drive/one shot learning/test.zip' -d '/content'"
      ],
      "execution_count": 0,
      "outputs": []
    },
    {
      "cell_type": "code",
      "metadata": {
        "id": "pRdNuhf8PEiH",
        "colab_type": "code",
        "colab": {}
      },
      "source": [
        "import numpy as np\n",
        "import cv2\n",
        "from skimage.io import imread\n",
        "import os\n",
        "from tqdm import tqdm\n",
        "import pickle\n",
        "from tensorflow.keras.models import Sequential,Model\n",
        "from tensorflow.keras.layers import Input,Conv2D,MaxPooling2D,Dense,Flatten,Concatenate,Lambda,BatchNormalization,Dropout\n",
        "from tensorflow.keras.regularizers import l2\n",
        "from tensorflow.keras.optimizers import Adam\n",
        "from tensorflow.keras import backend as K\n",
        "import time"
      ],
      "execution_count": 0,
      "outputs": []
    },
    {
      "cell_type": "code",
      "metadata": {
        "id": "TR7H9PZKmtcP",
        "colab_type": "code",
        "colab": {}
      },
      "source": [
        "def load_data(path):\n",
        "  n=0\n",
        "  lang_dict={}\n",
        "  for i in sorted(os.listdir(path)):\n",
        "    lang_dict[i]=[n,n+len(os.listdir(os.path.join(path,i)))-1]\n",
        "    n=n+len(os.listdir(os.path.join(path,i)))\n",
        "  \n",
        "  x=None\n",
        "  y=[]\n",
        "  c=0\n",
        "  for i in tqdm(sorted(os.listdir(path))):\n",
        "    for j in sorted(os.listdir(os.path.join(path,i))):\n",
        "      data=[]\n",
        "      for k in sorted(os.listdir(os.path.join(os.path.join(path,i),j))):\n",
        "        img_path=os.path.join(os.path.join(os.path.join(path,i),j),k)\n",
        "        data.append(imread(img_path))\n",
        "        if(c==0):\n",
        "          y.append(c)\n",
        "        else:\n",
        "          y=np.append(y,c)\n",
        "      data=np.asarray(data)\n",
        "      data=np.expand_dims(data,axis=0)\n",
        "      if(c==0):\n",
        "        x=np.asarray(data)\n",
        "      else:\n",
        "        x=np.append(x,data,axis=0)\n",
        "      c=c+1\n",
        "  y=np.vstack(y)\n",
        "  return x,y,lang_dict"
      ],
      "execution_count": 0,
      "outputs": []
    },
    {
      "cell_type": "code",
      "metadata": {
        "id": "sfg49IEXHj9F",
        "colab_type": "code",
        "colab": {}
      },
      "source": [
        "save_path='/content/drive/My Drive/one shot learning'"
      ],
      "execution_count": 0,
      "outputs": []
    },
    {
      "cell_type": "code",
      "metadata": {
        "id": "1Nug9Vf8py8Y",
        "colab_type": "code",
        "colab": {}
      },
      "source": [
        "# x,y,lang_dict=load_data('/content/images_background')\n",
        "f=open(os.path.join(save_path,'train.pickle'),'rb')\n",
        "x,y,lang_dict=pickle.load(f)\n",
        "f.close()"
      ],
      "execution_count": 0,
      "outputs": []
    },
    {
      "cell_type": "code",
      "metadata": {
        "id": "c2MtirT-saQA",
        "colab_type": "code",
        "colab": {
          "base_uri": "https://localhost:8080/",
          "height": 73
        },
        "outputId": "4a6df66a-53d6-4fa4-cd74-7cf422ef994b"
      },
      "source": [
        "print(x.shape)\n",
        "print(y.shape)\n",
        "print(lang_dict['Anglo-Saxon_Futhorc'])"
      ],
      "execution_count": 86,
      "outputs": [
        {
          "output_type": "stream",
          "text": [
            "(964, 20, 105, 105)\n",
            "(19280, 1)\n",
            "[20, 48]\n"
          ],
          "name": "stdout"
        }
      ]
    },
    {
      "cell_type": "code",
      "metadata": {
        "id": "opBNOlWH3LMY",
        "colab_type": "code",
        "colab": {}
      },
      "source": [
        "# f=open(os.path.join(save_path,'train.pickle'),'wb')\n",
        "# pickle.dump((x,y,lang_dict),f)\n",
        "# f.close()"
      ],
      "execution_count": 0,
      "outputs": []
    },
    {
      "cell_type": "code",
      "metadata": {
        "id": "-PmX_jQV9088",
        "colab_type": "code",
        "colab": {}
      },
      "source": [
        "# xval,yval,lang_dict_val=load_data('/content/images_evaluation')\n",
        "f=open(os.path.join(save_path,'test.pickle'),'rb')\n",
        "xval,yval,lang_dict_val=pickle.load(f)\n",
        "f.close()"
      ],
      "execution_count": 0,
      "outputs": []
    },
    {
      "cell_type": "code",
      "metadata": {
        "id": "Eeb_Xfib-dre",
        "colab_type": "code",
        "colab": {
          "base_uri": "https://localhost:8080/",
          "height": 54
        },
        "outputId": "92d8f050-744a-45bb-8331-465de9cc1f34"
      },
      "source": [
        "print(xval.shape)\n",
        "print(yval.shape)"
      ],
      "execution_count": 89,
      "outputs": [
        {
          "output_type": "stream",
          "text": [
            "(659, 20, 105, 105)\n",
            "(13180, 1)\n"
          ],
          "name": "stdout"
        }
      ]
    },
    {
      "cell_type": "code",
      "metadata": {
        "id": "wBDnpSWk-Dos",
        "colab_type": "code",
        "colab": {}
      },
      "source": [
        "# save_path='/content/drive/My Drive/one shot learning'\n",
        "# f=open(os.path.join(save_path,'test.pickle'),'wb')\n",
        "# pickle.dump((xval,yval,lang_dict_val),f)\n",
        "# f.close()"
      ],
      "execution_count": 0,
      "outputs": []
    },
    {
      "cell_type": "code",
      "metadata": {
        "id": "XgDpjJig-i61",
        "colab_type": "code",
        "colab": {}
      },
      "source": [
        "def get_batch(batch_size=32,s='train'):\n",
        "  if(s=='train'):\n",
        "    X=x\n",
        "  else:\n",
        "    X=xval\n",
        "  \n",
        "  n_classes,n_examples,w,h=X.shape\n",
        "\n",
        "  pairs=[np.zeros((batch_size,w,h,1)) for i in range(2)]\n",
        "  targets=np.zeros((batch_size,))\n",
        "\n",
        "  category=np.random.choice(n_classes,size=(batch_size,),replace=False)\n",
        "\n",
        "  targets[batch_size//2:]=1\n",
        "\n",
        "  for i in range(batch_size):\n",
        "    cat=category[i]\n",
        "    idx1=np.random.randint(0,n_examples)\n",
        "    pairs[0][i,:,:,:]=X[cat,idx1].reshape(w,h,1)\n",
        "\n",
        "    if(targets[i]==1):\n",
        "      cat2=cat\n",
        "    else:\n",
        "      cat2=(cat + np.random.randint(1,n_classes)) % n_classes\n",
        "    idx2=np.random.randint(0,n_examples)\n",
        "\n",
        "    pairs[1][i,:,:,:]=X[cat2,idx2].reshape(w,h,1)\n",
        "\n",
        "  return pairs,targets"
      ],
      "execution_count": 0,
      "outputs": []
    },
    {
      "cell_type": "code",
      "metadata": {
        "id": "AJ7SCNESENmB",
        "colab_type": "code",
        "colab": {}
      },
      "source": [
        "def initialize_weights(shape, dtype):\n",
        "    \"\"\"\n",
        "        The paper, http://www.cs.utoronto.ca/~gkoch/files/msc-thesis.pdf\n",
        "        suggests to initialize CNN layer weights with mean as 0.0 and standard deviation of 0.01\n",
        "    \"\"\"\n",
        "    return np.random.normal(loc = 0.0, scale = 1e-2, size = shape)"
      ],
      "execution_count": 0,
      "outputs": []
    },
    {
      "cell_type": "code",
      "metadata": {
        "id": "WEpd6-RdEOTl",
        "colab_type": "code",
        "colab": {}
      },
      "source": [
        "def initialize_bias(shape, dtype):\n",
        "    \"\"\"\n",
        "        The paper, http://www.cs.utoronto.ca/~gkoch/files/msc-thesis.pdf\n",
        "        suggests to initialize CNN layer bias with mean as 0.5 and standard deviation of 0.01\n",
        "    \"\"\"\n",
        "    return np.random.normal(loc = 0.5, scale = 1e-2, size = shape)"
      ],
      "execution_count": 0,
      "outputs": []
    },
    {
      "cell_type": "code",
      "metadata": {
        "id": "-IlhHxbcDfZ1",
        "colab_type": "code",
        "colab": {}
      },
      "source": [
        "#hyperparameters\n",
        "\n",
        "input_shape=(105,105,1)\n",
        "epochs=20000\n",
        "n_way = 20\n",
        "n_way_trials=250\n",
        "batch_size=32"
      ],
      "execution_count": 0,
      "outputs": []
    },
    {
      "cell_type": "code",
      "metadata": {
        "id": "CtEnUurrDSrd",
        "colab_type": "code",
        "colab": {}
      },
      "source": [
        "def get_siamese_model(input_shape):\n",
        "    \"\"\"\n",
        "        Model architecture based on the one provided in: http://www.cs.utoronto.ca/~gkoch/files/msc-thesis.pdf\n",
        "    \"\"\"\n",
        "    \n",
        "    # Define the tensors for the two input images\n",
        "    left_input = Input(input_shape)\n",
        "    right_input = Input(input_shape)\n",
        "    \n",
        "    # Convolutional Neural Network\n",
        "    model = Sequential()\n",
        "    model.add(Conv2D(64, (5,5), activation='relu', input_shape=input_shape,\n",
        "                   kernel_initializer=initialize_weights, kernel_regularizer=l2(2e-4)))\n",
        "    model.add(MaxPooling2D())\n",
        "    model.add(Dropout(0.2))\n",
        "    model.add(BatchNormalization())\n",
        "    model.add(Conv2D(128, (5,5), activation='relu',\n",
        "                     kernel_initializer=initialize_weights,\n",
        "                     bias_initializer=initialize_bias, kernel_regularizer=l2(2e-4)))\n",
        "    model.add(MaxPooling2D())\n",
        "    model.add(Dropout(0.2))\n",
        "    model.add(BatchNormalization())\n",
        "    model.add(Conv2D(128, (5,5), activation='relu', kernel_initializer=initialize_weights,\n",
        "                     bias_initializer=initialize_bias, kernel_regularizer=l2(2e-4)))\n",
        "    model.add(MaxPooling2D())\n",
        "    model.add(Dropout(0.2))\n",
        "    model.add(BatchNormalization())\n",
        "    model.add(Conv2D(256, (3,3), activation='relu', kernel_initializer=initialize_weights,\n",
        "                     bias_initializer=initialize_bias, kernel_regularizer=l2(2e-4)))\n",
        "    model.add(MaxPooling2D())\n",
        "    model.add(Dropout(0.2))\n",
        "    model.add(BatchNormalization())\n",
        "    model.add(Conv2D(256, (1,1), activation='relu', kernel_initializer=initialize_weights,\n",
        "                     bias_initializer=initialize_bias, kernel_regularizer=l2(2e-4)))\n",
        "    model.add(BatchNormalization())\n",
        "\n",
        "    \n",
        "    model.add(Flatten())\n",
        "    \n",
        "    model.add(Dense(4096, activation='relu',\n",
        "                   kernel_regularizer=l2(1e-3),\n",
        "                   kernel_initializer=initialize_weights,bias_initializer=initialize_bias))\n",
        "    \n",
        "    model.add(Dense(4096, activation='relu',\n",
        "                   kernel_regularizer=l2(1e-3),\n",
        "                   kernel_initializer=initialize_weights,bias_initializer=initialize_bias))\n",
        "    \n",
        "    # Generate the encodings (feature vectors) for the two images\n",
        "    encoded_l = model(left_input)\n",
        "    encoded_r = model(right_input)\n",
        "    \n",
        "    # Add a customized layer to compute the absolute difference between the encodings\n",
        "    L1_layer = Lambda(lambda tensors:K.abs(tensors[0] - tensors[1]))\n",
        "    L1_distance = L1_layer([encoded_l, encoded_r])\n",
        "    \n",
        "    # Add a dense layer with a sigmoid unit to generate the similarity score\n",
        "    prediction = Dense(1,activation='sigmoid',bias_initializer=initialize_bias)(L1_distance)\n",
        "    \n",
        "    # Connect the inputs with the outputs\n",
        "    siamese_net = Model(inputs=[left_input,right_input],outputs=prediction)\n",
        "    \n",
        "    # return the model\n",
        "    return siamese_net"
      ],
      "execution_count": 0,
      "outputs": []
    },
    {
      "cell_type": "code",
      "metadata": {
        "id": "ySOBKj6GDa61",
        "colab_type": "code",
        "colab": {}
      },
      "source": [
        "model=get_siamese_model(input_shape)"
      ],
      "execution_count": 0,
      "outputs": []
    },
    {
      "cell_type": "code",
      "metadata": {
        "id": "iimBLzKVGEnK",
        "colab_type": "code",
        "colab": {}
      },
      "source": [
        "optimizer = Adam(lr = 0.00006)\n",
        "model.compile(loss=\"binary_crossentropy\",optimizer=optimizer)"
      ],
      "execution_count": 0,
      "outputs": []
    },
    {
      "cell_type": "code",
      "metadata": {
        "id": "y96TZL-SOmFi",
        "colab_type": "code",
        "colab": {}
      },
      "source": [
        "def test_nway(n):\n",
        "  n_category,n_examples,w,h=xval.shape\n",
        "\n",
        "  test_cat=np.random.choice(n_category,replace=False)\n",
        "  test_id=np.random.randint(0,n_examples)\n",
        "\n",
        "  support_cat=test_cat\n",
        "  support_id=np.random.randint(0,n_examples)\n",
        "  \n",
        "  pairs=[np.zeros((n,w,h,1)) for i in range(2)]\n",
        "\n",
        "  pairs[0][0,:,:,:]=xval[test_cat,test_id,:,:].reshape(w,h,1)\n",
        "  pairs[1][0,:,:,:]=xval[support_cat,support_id,:,:].reshape(w,h,1)\n",
        "\n",
        "  for i in range(1,n-1):\n",
        "    support_cat=np.random.choice(n_category,replace=False)\n",
        "    if support_cat==test_cat:\n",
        "      while support_cat==test_cat:\n",
        "        support_cat=np.random.choice(n_category,replace=False)\n",
        "    support_id=np.random.randint(0,n_examples)\n",
        "\n",
        "    pairs[0][i,:,:,:]=xval[test_cat,test_id,:,:].reshape(w,h,1)\n",
        "    pairs[1][i,:,:,:]=xval[support_cat,support_id,:,:].reshape(w,h,1)\n",
        "  \n",
        "  preds=model.predict(pairs)\n",
        "  \n",
        "  if np.argmax(preds)==0:\n",
        "    return True\n",
        "  else:\n",
        "    return False"
      ],
      "execution_count": 0,
      "outputs": []
    },
    {
      "cell_type": "code",
      "metadata": {
        "id": "vXm7YOoY0r2z",
        "colab_type": "code",
        "colab": {}
      },
      "source": [
        "def get_nway_acc(n,trials):\n",
        "  correct=0.0\n",
        "  for i in range(trials):\n",
        "    if test_nway(n):\n",
        "      correct=correct+1\n",
        "  return 100*(correct/float(trials))"
      ],
      "execution_count": 0,
      "outputs": []
    },
    {
      "cell_type": "code",
      "metadata": {
        "id": "ptAV38RY1ZQm",
        "colab_type": "code",
        "colab": {
          "base_uri": "https://localhost:8080/",
          "height": 690
        },
        "outputId": "66d6fc83-4fec-432a-ce08-9c987e1c5335"
      },
      "source": [
        "print(\"Starting training process!\")\n",
        "t_start = time.time()\n",
        "acc=[]\n",
        "losses=[]\n",
        "for i in range(epochs):\n",
        "  (inputs,targets) = get_batch(batch_size)\n",
        "  loss = model.train_on_batch(inputs, targets)\n",
        "  if i % 300 == 0:\n",
        "        print(\"Time for {0} iterations: {1} mins\".format(i+1, (time.time()-t_start)//60.0))\n",
        "        print(\"Train Loss: {0}\".format(loss)) \n",
        "        val_acc = round(get_nway_acc(n_way, n_way_trials),2)\n",
        "        losses.append(loss)\n",
        "        print('The 20-way with 250 trials validation accuracy is:',val_acc)\n",
        "        print('\\n')\n",
        "        acc.append(val_acc)"
      ],
      "execution_count": 0,
      "outputs": [
        {
          "output_type": "stream",
          "text": [
            "Starting training process!\n",
            "Time for 1 iterations: 0.0 mins\n",
            "Train Loss: 3.3403940200805664\n",
            "The 20-way with 250 trials validation accuracy is: 6.0\n",
            "\n",
            "\n",
            "Time for 301 iterations: 0.0 mins\n",
            "Train Loss: 2.799503803253174\n",
            "The 20-way with 250 trials validation accuracy is: 12.4\n",
            "\n",
            "\n",
            "Time for 601 iterations: 1.0 mins\n",
            "Train Loss: 2.6697936058044434\n",
            "The 20-way with 250 trials validation accuracy is: 18.4\n",
            "\n",
            "\n",
            "Time for 901 iterations: 2.0 mins\n",
            "Train Loss: 2.214146852493286\n",
            "The 20-way with 250 trials validation accuracy is: 10.0\n",
            "\n",
            "\n",
            "Time for 1201 iterations: 2.0 mins\n",
            "Train Loss: 2.1126034259796143\n",
            "The 20-way with 250 trials validation accuracy is: 20.4\n",
            "\n",
            "\n",
            "Time for 1501 iterations: 3.0 mins\n",
            "Train Loss: 1.8404104709625244\n",
            "The 20-way with 250 trials validation accuracy is: 17.6\n",
            "\n",
            "\n",
            "Time for 1801 iterations: 4.0 mins\n",
            "Train Loss: 1.744596242904663\n",
            "The 20-way with 250 trials validation accuracy is: 13.2\n",
            "\n",
            "\n"
          ],
          "name": "stdout"
        }
      ]
    },
    {
      "cell_type": "code",
      "metadata": {
        "id": "_LgYEawJrUXu",
        "colab_type": "code",
        "colab": {}
      },
      "source": [
        "import matplotlib.pyplot as plt\n",
        "\n",
        "plt.plot(range(1,20000,300),acc)\n",
        "plt.title('Val Accuracy')\n",
        "plt.xlabel('Epochs')\n",
        "plt.ylabel('Accuracy')"
      ],
      "execution_count": 0,
      "outputs": []
    },
    {
      "cell_type": "code",
      "metadata": {
        "id": "a4FLgXWurrPL",
        "colab_type": "code",
        "colab": {}
      },
      "source": [
        "import matplotlib.pyplot as plt\n",
        "\n",
        "plt.plot(range(1,20000,300),losses)\n",
        "plt.title('Training Loss')\n",
        "plt.xlabel('Epochs')\n",
        "plt.ylabel('Loss')"
      ],
      "execution_count": 0,
      "outputs": []
    },
    {
      "cell_type": "code",
      "metadata": {
        "id": "6__xcK0Gu2lg",
        "colab_type": "code",
        "colab": {}
      },
      "source": [
        "def knn_acc(n,k):\n",
        "\n",
        "  correct=0.0\n",
        "\n",
        "  for i in range(k):\n",
        "\n",
        "    pairs,_=get_batch(n,'val')\n",
        "\n",
        "    distance=[]\n",
        "\n",
        "    for i in range(n):\n",
        "      img1=np.flatten(pairs[0][i])\n",
        "      img2=np.flatten(pairs[1][i])\n",
        "\n",
        "      distance.append(np.sqrt(np.sum((img1-img2)**2)))\n",
        "    \n",
        "    preds=model.predict(pairs)\n",
        "\n",
        "    if np.argmax(preds)==np.argmin(distance):\n",
        "      correct=correct+1\n",
        "    \n",
        "  return round(100*(correct/float(k)),2)\n"
      ],
      "execution_count": 0,
      "outputs": []
    }
  ]
}