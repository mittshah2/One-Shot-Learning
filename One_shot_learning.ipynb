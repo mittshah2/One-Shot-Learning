{
  "nbformat": 4,
  "nbformat_minor": 0,
  "metadata": {
    "colab": {
      "name": "One shot learning.ipynb",
      "provenance": [],
      "collapsed_sections": [],
      "mount_file_id": "1udQtkZlojejNqlohkLNthp7oFlolO_3H",
      "authorship_tag": "ABX9TyMnQy/5X0CJybybXvU0Tq6D",
      "include_colab_link": true
    },
    "kernelspec": {
      "name": "python3",
      "display_name": "Python 3"
    },
    "accelerator": "GPU"
  },
  "cells": [
    {
      "cell_type": "markdown",
      "metadata": {
        "id": "view-in-github",
        "colab_type": "text"
      },
      "source": [
        "<a href=\"https://colab.research.google.com/github/mittshah2/One-Shot-Learning/blob/master/One_shot_learning.ipynb\" target=\"_parent\"><img src=\"https://colab.research.google.com/assets/colab-badge.svg\" alt=\"Open In Colab\"/></a>"
      ]
    },
    {
      "cell_type": "code",
      "metadata": {
        "id": "nWM70RHhp_DR",
        "colab_type": "code",
        "colab": {}
      },
      "source": [
        "# !unzip -uq '/content/drive/My Drive/one shot learning/train.zip' -d '/content'\n",
        "# !unzip -uq '/content/drive/My Drive/one shot learning/test.zip' -d '/content'"
      ],
      "execution_count": 0,
      "outputs": []
    },
    {
      "cell_type": "code",
      "metadata": {
        "id": "pRdNuhf8PEiH",
        "colab_type": "code",
        "colab": {}
      },
      "source": [
        "import numpy as np\n",
        "import cv2\n",
        "from skimage.io import imread\n",
        "import os\n",
        "from tqdm import tqdm\n",
        "import pickle\n",
        "from tensorflow.keras.models import Sequential,Model\n",
        "from tensorflow.keras.layers import Input,Conv2D,MaxPooling2D,Dense,Flatten,Concatenate,Lambda,BatchNormalization,Dropout,GlobalAveragePooling2D\n",
        "from tensorflow.keras.regularizers import l2\n",
        "from tensorflow.keras.optimizers import Adam\n",
        "from tensorflow.keras import backend as K\n",
        "import time"
      ],
      "execution_count": 0,
      "outputs": []
    },
    {
      "cell_type": "code",
      "metadata": {
        "id": "TR7H9PZKmtcP",
        "colab_type": "code",
        "colab": {}
      },
      "source": [
        "def load_data(path):\n",
        "  n=0\n",
        "  lang_dict={}\n",
        "  for i in sorted(os.listdir(path)):\n",
        "    lang_dict[i]=[n,n+len(os.listdir(os.path.join(path,i)))-1]\n",
        "    n=n+len(os.listdir(os.path.join(path,i)))\n",
        "  \n",
        "  x=None\n",
        "  y=[]\n",
        "  c=0\n",
        "  for i in tqdm(sorted(os.listdir(path))):\n",
        "    for j in sorted(os.listdir(os.path.join(path,i))):\n",
        "      data=[]\n",
        "      for k in sorted(os.listdir(os.path.join(os.path.join(path,i),j))):\n",
        "        img_path=os.path.join(os.path.join(os.path.join(path,i),j),k)\n",
        "        data.append(imread(img_path))\n",
        "        if(c==0):\n",
        "          y.append(c)\n",
        "        else:\n",
        "          y=np.append(y,c)\n",
        "      data=np.asarray(data)\n",
        "      data=np.expand_dims(data,axis=0)\n",
        "      if(c==0):\n",
        "        x=np.asarray(data)\n",
        "      else:\n",
        "        x=np.append(x,data,axis=0)\n",
        "      c=c+1\n",
        "  y=np.vstack(y)\n",
        "  return x,y,lang_dict"
      ],
      "execution_count": 0,
      "outputs": []
    },
    {
      "cell_type": "code",
      "metadata": {
        "id": "sfg49IEXHj9F",
        "colab_type": "code",
        "colab": {}
      },
      "source": [
        "save_path='/content/drive/My Drive/one shot learning'"
      ],
      "execution_count": 0,
      "outputs": []
    },
    {
      "cell_type": "code",
      "metadata": {
        "id": "1Nug9Vf8py8Y",
        "colab_type": "code",
        "colab": {}
      },
      "source": [
        "# x,y,lang_dict=load_data('/content/images_background')\n",
        "f=open(os.path.join(save_path,'train.pickle'),'rb')\n",
        "x,y,lang_dict=pickle.load(f)\n",
        "f.close()"
      ],
      "execution_count": 0,
      "outputs": []
    },
    {
      "cell_type": "code",
      "metadata": {
        "id": "c2MtirT-saQA",
        "colab_type": "code",
        "outputId": "3218132f-1443-4ad4-ee2a-2e5b9f980205",
        "colab": {
          "base_uri": "https://localhost:8080/",
          "height": 73
        }
      },
      "source": [
        "print(x.shape)\n",
        "print(y.shape)\n",
        "print(lang_dict['Anglo-Saxon_Futhorc'])"
      ],
      "execution_count": 7,
      "outputs": [
        {
          "output_type": "stream",
          "text": [
            "(964, 20, 105, 105)\n",
            "(19280, 1)\n",
            "[20, 48]\n"
          ],
          "name": "stdout"
        }
      ]
    },
    {
      "cell_type": "code",
      "metadata": {
        "id": "opBNOlWH3LMY",
        "colab_type": "code",
        "colab": {}
      },
      "source": [
        "# f=open(os.path.join(save_path,'train.pickle'),'wb')\n",
        "# pickle.dump((x,y,lang_dict),f)\n",
        "# f.close()"
      ],
      "execution_count": 0,
      "outputs": []
    },
    {
      "cell_type": "code",
      "metadata": {
        "id": "-PmX_jQV9088",
        "colab_type": "code",
        "colab": {}
      },
      "source": [
        "# xval,yval,lang_dict_val=load_data('/content/images_evaluation')\n",
        "f=open(os.path.join(save_path,'test.pickle'),'rb')\n",
        "xval,yval,lang_dict_val=pickle.load(f)\n",
        "f.close()"
      ],
      "execution_count": 0,
      "outputs": []
    },
    {
      "cell_type": "code",
      "metadata": {
        "id": "Eeb_Xfib-dre",
        "colab_type": "code",
        "outputId": "31844b99-43ea-4a99-9732-a0c680c63bdf",
        "colab": {
          "base_uri": "https://localhost:8080/",
          "height": 54
        }
      },
      "source": [
        "print(xval.shape)\n",
        "print(yval.shape)"
      ],
      "execution_count": 10,
      "outputs": [
        {
          "output_type": "stream",
          "text": [
            "(659, 20, 105, 105)\n",
            "(13180, 1)\n"
          ],
          "name": "stdout"
        }
      ]
    },
    {
      "cell_type": "code",
      "metadata": {
        "id": "wBDnpSWk-Dos",
        "colab_type": "code",
        "colab": {}
      },
      "source": [
        "# save_path='/content/drive/My Drive/one shot learning'\n",
        "# f=open(os.path.join(save_path,'test.pickle'),'wb')\n",
        "# pickle.dump((xval,yval,lang_dict_val),f)\n",
        "# f.close()"
      ],
      "execution_count": 0,
      "outputs": []
    },
    {
      "cell_type": "code",
      "metadata": {
        "id": "XgDpjJig-i61",
        "colab_type": "code",
        "colab": {}
      },
      "source": [
        "def get_batch(batch_size=32,s='train'):\n",
        "  if(s=='train'):\n",
        "    X=x\n",
        "  else:\n",
        "    X=xval\n",
        "  \n",
        "  n_classes,n_examples,w,h=X.shape\n",
        "\n",
        "  pairs=[np.zeros((batch_size,w,h,1)) for i in range(2)]\n",
        "  targets=np.zeros((batch_size,))\n",
        "\n",
        "  category=np.random.choice(n_classes,size=(batch_size,),replace=False)\n",
        "\n",
        "  targets[batch_size//2:]=1\n",
        "\n",
        "  for i in range(batch_size):\n",
        "    cat=category[i]\n",
        "    idx1=np.random.randint(0,n_examples)\n",
        "    pairs[0][i,:,:,:]=X[cat,idx1].reshape(w,h,1)\n",
        "\n",
        "    if(targets[i]==1):\n",
        "      cat2=cat\n",
        "    else:\n",
        "      cat2=(cat + np.random.randint(1,n_classes)) % n_classes\n",
        "    idx2=np.random.randint(0,n_examples)\n",
        "\n",
        "    pairs[1][i,:,:,:]=X[cat2,idx2].reshape(w,h,1)\n",
        "\n",
        "  return pairs,targets"
      ],
      "execution_count": 0,
      "outputs": []
    },
    {
      "cell_type": "code",
      "metadata": {
        "id": "AJ7SCNESENmB",
        "colab_type": "code",
        "colab": {}
      },
      "source": [
        "def initialize_weights(shape, dtype):\n",
        "    \"\"\"\n",
        "        The paper, http://www.cs.utoronto.ca/~gkoch/files/msc-thesis.pdf\n",
        "        suggests to initialize CNN layer weights with mean as 0.0 and standard deviation of 0.01\n",
        "    \"\"\"\n",
        "    return np.random.normal(loc = 0.0, scale = 1e-2, size = shape)"
      ],
      "execution_count": 0,
      "outputs": []
    },
    {
      "cell_type": "code",
      "metadata": {
        "id": "WEpd6-RdEOTl",
        "colab_type": "code",
        "colab": {}
      },
      "source": [
        "def initialize_bias(shape, dtype):\n",
        "    \"\"\"\n",
        "        The paper, http://www.cs.utoronto.ca/~gkoch/files/msc-thesis.pdf\n",
        "        suggests to initialize CNN layer bias with mean as 0.5 and standard deviation of 0.01\n",
        "    \"\"\"\n",
        "    return np.random.normal(loc = 0.5, scale = 1e-2, size = shape)"
      ],
      "execution_count": 0,
      "outputs": []
    },
    {
      "cell_type": "code",
      "metadata": {
        "id": "-IlhHxbcDfZ1",
        "colab_type": "code",
        "colab": {}
      },
      "source": [
        "#hyperparameters\n",
        "\n",
        "input_shape=(105,105,1)\n",
        "epochs=20000\n",
        "n_way = 20\n",
        "n_way_trials=250\n",
        "batch_size=32"
      ],
      "execution_count": 0,
      "outputs": []
    },
    {
      "cell_type": "code",
      "metadata": {
        "id": "CtEnUurrDSrd",
        "colab_type": "code",
        "colab": {}
      },
      "source": [
        "def get_siamese_model(input_shape):\n",
        "    \"\"\"\n",
        "        Model architecture based on the one provided in: http://www.cs.utoronto.ca/~gkoch/files/msc-thesis.pdf\n",
        "    \"\"\"\n",
        "    \n",
        "    # Define the tensors for the two input images\n",
        "    left_input = Input(input_shape)\n",
        "    right_input = Input(input_shape)\n",
        "    \n",
        "    # Convolutional Neural Network\n",
        "    model = Sequential()\n",
        "    model.add(Conv2D(64, (7,7), activation='relu', input_shape=input_shape,\n",
        "                   kernel_initializer=initialize_weights, kernel_regularizer=l2(2e-4)))\n",
        "    model.add(MaxPooling2D())\n",
        "    model.add(Conv2D(128, (7,7), activation='relu',\n",
        "                     kernel_initializer=initialize_weights,\n",
        "                     bias_initializer=initialize_bias, kernel_regularizer=l2(2e-4)))\n",
        "    model.add(MaxPooling2D())\n",
        "    model.add(Conv2D(128, (4,4), activation='relu', kernel_initializer=initialize_weights,\n",
        "                     bias_initializer=initialize_bias, kernel_regularizer=l2(2e-4)))\n",
        "    model.add(MaxPooling2D())\n",
        "    model.add(Conv2D(256, (4,4), activation='relu', kernel_initializer=initialize_weights,\n",
        "                     bias_initializer=initialize_bias, kernel_regularizer=l2(2e-4)))\n",
        "    model.add(Flatten())\n",
        "    model.add(Dense(4096, activation='sigmoid',\n",
        "                   kernel_regularizer=l2(1e-3),\n",
        "                   kernel_initializer=initialize_weights,bias_initializer=initialize_bias))\n",
        "    \n",
        "    # Generate the encodings (feature vectors) for the two images\n",
        "    encoded_l = model(left_input)\n",
        "    encoded_r = model(right_input)\n",
        "    \n",
        "    # Add a customized layer to compute the absolute difference between the encodings\n",
        "    L1_layer = Lambda(lambda tensors:K.abs(tensors[0] - tensors[1]))\n",
        "    L1_distance = L1_layer([encoded_l, encoded_r])\n",
        "    \n",
        "    # Add a dense layer with a sigmoid unit to generate the similarity score\n",
        "    prediction = Dense(1,activation='sigmoid',bias_initializer=initialize_bias)(L1_distance)\n",
        "    \n",
        "    # Connect the inputs with the outputs\n",
        "    siamese_net = Model(inputs=[left_input,right_input],outputs=prediction)\n",
        "    \n",
        "    # return the model\n",
        "    return siamese_net"
      ],
      "execution_count": 0,
      "outputs": []
    },
    {
      "cell_type": "code",
      "metadata": {
        "id": "ySOBKj6GDa61",
        "colab_type": "code",
        "colab": {}
      },
      "source": [
        "model=get_siamese_model(input_shape)"
      ],
      "execution_count": 0,
      "outputs": []
    },
    {
      "cell_type": "code",
      "metadata": {
        "id": "iimBLzKVGEnK",
        "colab_type": "code",
        "colab": {}
      },
      "source": [
        "optimizer = Adam(lr = 0.00006)\n",
        "model.compile(loss=\"binary_crossentropy\",optimizer=optimizer)"
      ],
      "execution_count": 0,
      "outputs": []
    },
    {
      "cell_type": "code",
      "metadata": {
        "id": "y96TZL-SOmFi",
        "colab_type": "code",
        "colab": {}
      },
      "source": [
        "def test_nway(n):\n",
        "  n_category,n_examples,w,h=xval.shape\n",
        "\n",
        "  test_cat=np.random.choice(n_category,replace=False)\n",
        "  test_id=np.random.randint(0,n_examples)\n",
        "\n",
        "  support_cat=test_cat\n",
        "  support_id=np.random.randint(0,n_examples)\n",
        "  \n",
        "  pairs=[np.zeros((n,w,h,1)) for i in range(2)]\n",
        "\n",
        "  pairs[0][0,:,:,:]=xval[test_cat,test_id,:,:].reshape(w,h,1)\n",
        "  pairs[1][0,:,:,:]=xval[support_cat,support_id,:,:].reshape(w,h,1)\n",
        "\n",
        "  for i in range(1,n-1):\n",
        "    support_cat=np.random.choice(n_category,replace=False)\n",
        "    if support_cat==test_cat:\n",
        "      while support_cat==test_cat:\n",
        "        support_cat=np.random.choice(n_category,replace=False)\n",
        "    support_id=np.random.randint(0,n_examples)\n",
        "\n",
        "    pairs[0][i,:,:,:]=xval[test_cat,test_id,:,:].reshape(w,h,1)\n",
        "    pairs[1][i,:,:,:]=xval[support_cat,support_id,:,:].reshape(w,h,1)\n",
        "  \n",
        "  preds=model.predict(pairs)\n",
        "  \n",
        "  if np.argmax(preds)==0:\n",
        "    return True\n",
        "  else:\n",
        "    return False"
      ],
      "execution_count": 0,
      "outputs": []
    },
    {
      "cell_type": "code",
      "metadata": {
        "id": "vXm7YOoY0r2z",
        "colab_type": "code",
        "colab": {}
      },
      "source": [
        "def get_nway_acc(n,trials):\n",
        "  correct=0.0\n",
        "  for i in range(trials):\n",
        "    if test_nway(n):\n",
        "      correct=correct+1\n",
        "  return 100*(correct/float(trials))"
      ],
      "execution_count": 0,
      "outputs": []
    },
    {
      "cell_type": "code",
      "metadata": {
        "id": "ptAV38RY1ZQm",
        "colab_type": "code",
        "outputId": "c7863171-c409-4bb1-885c-df818ba89076",
        "colab": {
          "base_uri": "https://localhost:8080/",
          "height": 1000
        }
      },
      "source": [
        "print(\"Starting training process!\")\n",
        "t_start = time.time()\n",
        "acc=[]\n",
        "losses=[]\n",
        "for i in range(epochs):\n",
        "  (inputs,targets) = get_batch(batch_size)\n",
        "  loss = model.train_on_batch(inputs, targets)\n",
        "  if i % 300 == 0:\n",
        "        print(\"Time for {0} iterations: {1} mins\".format(i+1, (time.time()-t_start)//60.0))\n",
        "        print(\"Train Loss: {0}\".format(loss)) \n",
        "        val_acc = round(get_nway_acc(n_way, n_way_trials),2)\n",
        "        losses.append(loss)\n",
        "        print('The 20-way with 250 trials validation accuracy is:',val_acc)\n",
        "        print('\\n')\n",
        "        acc.append(val_acc)"
      ],
      "execution_count": 21,
      "outputs": [
        {
          "output_type": "stream",
          "text": [
            "Starting training process!\n",
            "Time for 1 iterations: 0.0 mins\n",
            "Train Loss: 4.522904872894287\n",
            "The 20-way with 250 trials validation accuracy is: 4.8\n",
            "\n",
            "\n",
            "Time for 301 iterations: 0.0 mins\n",
            "Train Loss: 1.896457552909851\n",
            "The 20-way with 250 trials validation accuracy is: 27.2\n",
            "\n",
            "\n",
            "Time for 601 iterations: 1.0 mins\n",
            "Train Loss: 1.2802234888076782\n",
            "The 20-way with 250 trials validation accuracy is: 43.6\n",
            "\n",
            "\n",
            "Time for 901 iterations: 2.0 mins\n",
            "Train Loss: 1.1365095376968384\n",
            "The 20-way with 250 trials validation accuracy is: 49.6\n",
            "\n",
            "\n",
            "Time for 1201 iterations: 3.0 mins\n",
            "Train Loss: 0.8037458062171936\n",
            "The 20-way with 250 trials validation accuracy is: 56.4\n",
            "\n",
            "\n",
            "Time for 1501 iterations: 3.0 mins\n",
            "Train Loss: 0.7178023457527161\n",
            "The 20-way with 250 trials validation accuracy is: 60.8\n",
            "\n",
            "\n",
            "Time for 1801 iterations: 4.0 mins\n",
            "Train Loss: 0.6599388718605042\n",
            "The 20-way with 250 trials validation accuracy is: 66.0\n",
            "\n",
            "\n",
            "Time for 2101 iterations: 5.0 mins\n",
            "Train Loss: 0.5872411727905273\n",
            "The 20-way with 250 trials validation accuracy is: 57.6\n",
            "\n",
            "\n",
            "Time for 2401 iterations: 6.0 mins\n",
            "Train Loss: 0.472833514213562\n",
            "The 20-way with 250 trials validation accuracy is: 66.8\n",
            "\n",
            "\n",
            "Time for 2701 iterations: 6.0 mins\n",
            "Train Loss: 0.4785360097885132\n",
            "The 20-way with 250 trials validation accuracy is: 64.0\n",
            "\n",
            "\n",
            "Time for 3001 iterations: 7.0 mins\n",
            "Train Loss: 0.544471025466919\n",
            "The 20-way with 250 trials validation accuracy is: 60.8\n",
            "\n",
            "\n",
            "Time for 3301 iterations: 8.0 mins\n",
            "Train Loss: 0.5045708417892456\n",
            "The 20-way with 250 trials validation accuracy is: 66.0\n",
            "\n",
            "\n",
            "Time for 3601 iterations: 9.0 mins\n",
            "Train Loss: 0.42754870653152466\n",
            "The 20-way with 250 trials validation accuracy is: 63.6\n",
            "\n",
            "\n",
            "Time for 3901 iterations: 9.0 mins\n",
            "Train Loss: 0.4473588466644287\n",
            "The 20-way with 250 trials validation accuracy is: 68.0\n",
            "\n",
            "\n",
            "Time for 4201 iterations: 10.0 mins\n",
            "Train Loss: 0.32392418384552\n",
            "The 20-way with 250 trials validation accuracy is: 77.2\n",
            "\n",
            "\n",
            "Time for 4501 iterations: 11.0 mins\n",
            "Train Loss: 0.2857586145401001\n",
            "The 20-way with 250 trials validation accuracy is: 70.8\n",
            "\n",
            "\n",
            "Time for 4801 iterations: 12.0 mins\n",
            "Train Loss: 0.317696750164032\n",
            "The 20-way with 250 trials validation accuracy is: 65.2\n",
            "\n",
            "\n",
            "Time for 5101 iterations: 13.0 mins\n",
            "Train Loss: 0.25257253646850586\n",
            "The 20-way with 250 trials validation accuracy is: 69.2\n",
            "\n",
            "\n",
            "Time for 5401 iterations: 13.0 mins\n",
            "Train Loss: 0.23790669441223145\n",
            "The 20-way with 250 trials validation accuracy is: 74.0\n",
            "\n",
            "\n",
            "Time for 5701 iterations: 14.0 mins\n",
            "Train Loss: 0.32701998949050903\n",
            "The 20-way with 250 trials validation accuracy is: 68.8\n",
            "\n",
            "\n",
            "Time for 6001 iterations: 15.0 mins\n",
            "Train Loss: 0.418051153421402\n",
            "The 20-way with 250 trials validation accuracy is: 67.2\n",
            "\n",
            "\n",
            "Time for 6301 iterations: 16.0 mins\n",
            "Train Loss: 0.26141640543937683\n",
            "The 20-way with 250 trials validation accuracy is: 70.8\n",
            "\n",
            "\n",
            "Time for 6601 iterations: 16.0 mins\n",
            "Train Loss: 0.2711922228336334\n",
            "The 20-way with 250 trials validation accuracy is: 68.8\n",
            "\n",
            "\n",
            "Time for 6901 iterations: 17.0 mins\n",
            "Train Loss: 0.19430884718894958\n",
            "The 20-way with 250 trials validation accuracy is: 72.0\n",
            "\n",
            "\n",
            "Time for 7201 iterations: 18.0 mins\n",
            "Train Loss: 0.386888325214386\n",
            "The 20-way with 250 trials validation accuracy is: 66.0\n",
            "\n",
            "\n",
            "Time for 7501 iterations: 19.0 mins\n",
            "Train Loss: 0.3297795057296753\n",
            "The 20-way with 250 trials validation accuracy is: 68.8\n",
            "\n",
            "\n",
            "Time for 7801 iterations: 19.0 mins\n",
            "Train Loss: 0.23693722486495972\n",
            "The 20-way with 250 trials validation accuracy is: 67.2\n",
            "\n",
            "\n",
            "Time for 8101 iterations: 20.0 mins\n",
            "Train Loss: 0.2972564697265625\n",
            "The 20-way with 250 trials validation accuracy is: 68.0\n",
            "\n",
            "\n",
            "Time for 8401 iterations: 21.0 mins\n",
            "Train Loss: 0.22380658984184265\n",
            "The 20-way with 250 trials validation accuracy is: 75.6\n",
            "\n",
            "\n",
            "Time for 8701 iterations: 22.0 mins\n",
            "Train Loss: 0.21309524774551392\n",
            "The 20-way with 250 trials validation accuracy is: 66.8\n",
            "\n",
            "\n",
            "Time for 9001 iterations: 22.0 mins\n",
            "Train Loss: 0.17743879556655884\n",
            "The 20-way with 250 trials validation accuracy is: 73.6\n",
            "\n",
            "\n",
            "Time for 9301 iterations: 23.0 mins\n",
            "Train Loss: 0.19411662220954895\n",
            "The 20-way with 250 trials validation accuracy is: 76.4\n",
            "\n",
            "\n",
            "Time for 9601 iterations: 24.0 mins\n",
            "Train Loss: 0.21323275566101074\n",
            "The 20-way with 250 trials validation accuracy is: 71.6\n",
            "\n",
            "\n",
            "Time for 9901 iterations: 25.0 mins\n",
            "Train Loss: 0.2656668424606323\n",
            "The 20-way with 250 trials validation accuracy is: 76.8\n",
            "\n",
            "\n",
            "Time for 10201 iterations: 25.0 mins\n",
            "Train Loss: 0.32857954502105713\n",
            "The 20-way with 250 trials validation accuracy is: 71.2\n",
            "\n",
            "\n",
            "Time for 10501 iterations: 26.0 mins\n",
            "Train Loss: 0.20250581204891205\n",
            "The 20-way with 250 trials validation accuracy is: 76.4\n",
            "\n",
            "\n",
            "Time for 10801 iterations: 27.0 mins\n",
            "Train Loss: 0.16475743055343628\n",
            "The 20-way with 250 trials validation accuracy is: 68.4\n",
            "\n",
            "\n",
            "Time for 11101 iterations: 28.0 mins\n",
            "Train Loss: 0.18547232449054718\n",
            "The 20-way with 250 trials validation accuracy is: 74.4\n",
            "\n",
            "\n",
            "Time for 11401 iterations: 28.0 mins\n",
            "Train Loss: 0.153428852558136\n",
            "The 20-way with 250 trials validation accuracy is: 72.8\n",
            "\n",
            "\n",
            "Time for 11701 iterations: 29.0 mins\n",
            "Train Loss: 0.1997911036014557\n",
            "The 20-way with 250 trials validation accuracy is: 74.4\n",
            "\n",
            "\n",
            "Time for 12001 iterations: 30.0 mins\n",
            "Train Loss: 0.24730518460273743\n",
            "The 20-way with 250 trials validation accuracy is: 78.4\n",
            "\n",
            "\n",
            "Time for 12301 iterations: 31.0 mins\n",
            "Train Loss: 0.2164674997329712\n",
            "The 20-way with 250 trials validation accuracy is: 75.2\n",
            "\n",
            "\n",
            "Time for 12601 iterations: 31.0 mins\n",
            "Train Loss: 0.43417078256607056\n",
            "The 20-way with 250 trials validation accuracy is: 68.0\n",
            "\n",
            "\n",
            "Time for 12901 iterations: 32.0 mins\n",
            "Train Loss: 0.18550339341163635\n",
            "The 20-way with 250 trials validation accuracy is: 72.8\n",
            "\n",
            "\n",
            "Time for 13201 iterations: 33.0 mins\n",
            "Train Loss: 0.24776458740234375\n",
            "The 20-way with 250 trials validation accuracy is: 72.8\n",
            "\n",
            "\n",
            "Time for 13501 iterations: 34.0 mins\n",
            "Train Loss: 0.2303769737482071\n",
            "The 20-way with 250 trials validation accuracy is: 74.0\n",
            "\n",
            "\n",
            "Time for 13801 iterations: 34.0 mins\n",
            "Train Loss: 0.24607905745506287\n",
            "The 20-way with 250 trials validation accuracy is: 72.0\n",
            "\n",
            "\n",
            "Time for 14101 iterations: 35.0 mins\n",
            "Train Loss: 0.17474772036075592\n",
            "The 20-way with 250 trials validation accuracy is: 72.0\n",
            "\n",
            "\n",
            "Time for 14401 iterations: 36.0 mins\n",
            "Train Loss: 0.2467637062072754\n",
            "The 20-way with 250 trials validation accuracy is: 77.6\n",
            "\n",
            "\n",
            "Time for 14701 iterations: 37.0 mins\n",
            "Train Loss: 0.2113502025604248\n",
            "The 20-way with 250 trials validation accuracy is: 72.8\n",
            "\n",
            "\n",
            "Time for 15001 iterations: 38.0 mins\n",
            "Train Loss: 0.19041472673416138\n",
            "The 20-way with 250 trials validation accuracy is: 71.2\n",
            "\n",
            "\n",
            "Time for 15301 iterations: 38.0 mins\n",
            "Train Loss: 0.3708726167678833\n",
            "The 20-way with 250 trials validation accuracy is: 73.6\n",
            "\n",
            "\n",
            "Time for 15601 iterations: 39.0 mins\n",
            "Train Loss: 0.1632719337940216\n",
            "The 20-way with 250 trials validation accuracy is: 75.2\n",
            "\n",
            "\n",
            "Time for 15901 iterations: 40.0 mins\n",
            "Train Loss: 0.1680002212524414\n",
            "The 20-way with 250 trials validation accuracy is: 68.8\n",
            "\n",
            "\n",
            "Time for 16201 iterations: 41.0 mins\n",
            "Train Loss: 0.22172021865844727\n",
            "The 20-way with 250 trials validation accuracy is: 74.0\n",
            "\n",
            "\n",
            "Time for 16501 iterations: 41.0 mins\n",
            "Train Loss: 0.1905074417591095\n",
            "The 20-way with 250 trials validation accuracy is: 70.8\n",
            "\n",
            "\n",
            "Time for 16801 iterations: 42.0 mins\n",
            "Train Loss: 0.30804023146629333\n",
            "The 20-way with 250 trials validation accuracy is: 73.2\n",
            "\n",
            "\n",
            "Time for 17101 iterations: 43.0 mins\n",
            "Train Loss: 0.3001349866390228\n",
            "The 20-way with 250 trials validation accuracy is: 74.8\n",
            "\n",
            "\n",
            "Time for 17401 iterations: 44.0 mins\n",
            "Train Loss: 0.20816603302955627\n",
            "The 20-way with 250 trials validation accuracy is: 70.4\n",
            "\n",
            "\n",
            "Time for 17701 iterations: 44.0 mins\n",
            "Train Loss: 0.2090759575366974\n",
            "The 20-way with 250 trials validation accuracy is: 75.6\n",
            "\n",
            "\n",
            "Time for 18001 iterations: 45.0 mins\n",
            "Train Loss: 0.17753124237060547\n",
            "The 20-way with 250 trials validation accuracy is: 68.4\n",
            "\n",
            "\n",
            "Time for 18301 iterations: 46.0 mins\n",
            "Train Loss: 0.2375633418560028\n",
            "The 20-way with 250 trials validation accuracy is: 71.2\n",
            "\n",
            "\n",
            "Time for 18601 iterations: 47.0 mins\n",
            "Train Loss: 0.1695476919412613\n",
            "The 20-way with 250 trials validation accuracy is: 70.8\n",
            "\n",
            "\n",
            "Time for 18901 iterations: 47.0 mins\n",
            "Train Loss: 0.19518762826919556\n",
            "The 20-way with 250 trials validation accuracy is: 72.0\n",
            "\n",
            "\n",
            "Time for 19201 iterations: 48.0 mins\n",
            "Train Loss: 0.2720940113067627\n",
            "The 20-way with 250 trials validation accuracy is: 73.2\n",
            "\n",
            "\n",
            "Time for 19501 iterations: 49.0 mins\n",
            "Train Loss: 0.19765865802764893\n",
            "The 20-way with 250 trials validation accuracy is: 73.6\n",
            "\n",
            "\n",
            "Time for 19801 iterations: 50.0 mins\n",
            "Train Loss: 0.16400963068008423\n",
            "The 20-way with 250 trials validation accuracy is: 68.4\n",
            "\n",
            "\n"
          ],
          "name": "stdout"
        }
      ]
    },
    {
      "cell_type": "code",
      "metadata": {
        "id": "_LgYEawJrUXu",
        "colab_type": "code",
        "outputId": "c18bd533-8612-416b-b8e1-d928a95eb8c3",
        "colab": {
          "base_uri": "https://localhost:8080/",
          "height": 314
        }
      },
      "source": [
        "import matplotlib.pyplot as plt\n",
        "\n",
        "plt.plot(range(1,20000,300),acc)\n",
        "plt.title('Val Accuracy')\n",
        "plt.xlabel('Epochs')\n",
        "plt.ylabel('Accuracy')"
      ],
      "execution_count": 22,
      "outputs": [
        {
          "output_type": "execute_result",
          "data": {
            "text/plain": [
              "Text(0, 0.5, 'Accuracy')"
            ]
          },
          "metadata": {
            "tags": []
          },
          "execution_count": 22
        },
        {
          "output_type": "display_data",
          "data": {
            "image/png": "[encoded data removed]",
            "text/plain": [
              "<Figure size 432x288 with 1 Axes>"
            ]
          },
          "metadata": {
            "tags": [],
            "needs_background": "light"
          }
        }
      ]
    },
    {
      "cell_type": "code",
      "metadata": {
        "id": "a4FLgXWurrPL",
        "colab_type": "code",
        "outputId": "b3b0d01e-b301-4ad7-bef8-86f95f696d8a",
        "colab": {
          "base_uri": "https://localhost:8080/",
          "height": 314
        }
      },
      "source": [
        "import matplotlib.pyplot as plt\n",
        "\n",
        "plt.plot(range(1,20000,300),losses)\n",
        "plt.title('Training Loss')\n",
        "plt.xlabel('Epochs')\n",
        "plt.ylabel('Loss')"
      ],
      "execution_count": 23,
      "outputs": [
        {
          "output_type": "execute_result",
          "data": {
            "text/plain": [
              "Text(0, 0.5, 'Loss')"
            ]
          },
          "metadata": {
            "tags": []
          },
          "execution_count": 23
        },
        {
          "output_type": "display_data",
          "data": {
            "image/png": "[encoded data removed]",
            "text/plain": [
              "<Figure size 432x288 with 1 Axes>"
            ]
          },
          "metadata": {
            "tags": [],
            "needs_background": "light"
          }
        }
      ]
    },
    {
      "cell_type": "code",
      "metadata": {
        "id": "B7dkCD6IP7qC",
        "colab_type": "code",
        "colab": {
          "base_uri": "https://localhost:8080/",
          "height": 222
        },
        "outputId": "8840506e-ee49-4073-da2d-afece60ef5b8"
      },
      "source": [
        "pairs,_=get_batch(2,'val')\n",
        "preds=model.predict(pairs)\n",
        "plt.subplot(1,2,1)\n",
        "plt.imshow(pairs[0][0].reshape(105,105))\n",
        "plt.subplot(1,2,2)\n",
        "plt.imshow(pairs[1][0].reshape(105,105))\n",
        "print('The probability that the letters are similar is',round(preds[0][0]*100,2),'%')"
      ],
      "execution_count": 80,
      "outputs": [
        {
          "output_type": "stream",
          "text": [
            "The probability that the images are are 0.23 %\n"
          ],
          "name": "stdout"
        },
        {
          "output_type": "display_data",
          "data": {
            "image/png": "[encoded data removed]",
            "text/plain": [
              "<Figure size 432x288 with 2 Axes>"
            ]
          },
          "metadata": {
            "tags": [],
            "needs_background": "light"
          }
        }
      ]
    },
    {
      "cell_type": "code",
      "metadata": {
        "id": "GWN_ZLt8UKkR",
        "colab_type": "code",
        "colab": {
          "base_uri": "https://localhost:8080/",
          "height": 222
        },
        "outputId": "0892b59f-8786-402d-9e86-b7809851b6c0"
      },
      "source": [
        "plt.subplot(1,2,1)\n",
        "plt.imshow(pairs[0][1].reshape(105,105))\n",
        "plt.subplot(1,2,2)\n",
        "plt.imshow(pairs[1][1].reshape(105,105))\n",
        "print('The probability that the letters are simialr is',round(preds[1][0]*100,2),'%')"
      ],
      "execution_count": 81,
      "outputs": [
        {
          "output_type": "stream",
          "text": [
            "The probability that the images are are 97.4 %\n"
          ],
          "name": "stdout"
        },
        {
          "output_type": "display_data",
          "data": {
            "image/png": "[encoded data removed]",
            "text/plain": [
              "<Figure size 432x288 with 2 Axes>"
            ]
          },
          "metadata": {
            "tags": [],
            "needs_background": "light"
          }
        }
      ]
    },
    {
      "cell_type": "code",
      "metadata": {
        "id": "p1Nl0ebrTlGU",
        "colab_type": "code",
        "colab": {}
      },
      "source": [
        ""
      ],
      "execution_count": 0,
      "outputs": []
    }
  ]
}