{
  "nbformat": 4,
  "nbformat_minor": 0,
  "metadata": {
    "colab": {
      "name": "One shot learning.ipynb",
      "provenance": [],
      "collapsed_sections": [],
      "mount_file_id": "1udQtkZlojejNqlohkLNthp7oFlolO_3H",
      "authorship_tag": "ABX9TyOg6EJHpGvpST1Ap3KHYQaE",
      "include_colab_link": true
    },
    "kernelspec": {
      "name": "python3",
      "display_name": "Python 3"
    },
    "accelerator": "GPU"
  },
  "cells": [
    {
      "cell_type": "markdown",
      "metadata": {
        "id": "view-in-github",
        "colab_type": "text"
      },
      "source": [
        "<a href=\"https://colab.research.google.com/github/mittshah2/One-Shot-Learning/blob/dev/One_shot_learning.ipynb\" target=\"_parent\"><img src=\"https://colab.research.google.com/assets/colab-badge.svg\" alt=\"Open In Colab\"/></a>"
      ]
    },
    {
      "cell_type": "code",
      "metadata": {
        "id": "nWM70RHhp_DR",
        "colab_type": "code",
        "colab": {}
      },
      "source": [
        "# !unzip -uq '/content/drive/My Drive/one shot learning/train.zip' -d '/content'\n",
        "# !unzip -uq '/content/drive/My Drive/one shot learning/test.zip' -d '/content'"
      ],
      "execution_count": 0,
      "outputs": []
    },
    {
      "cell_type": "code",
      "metadata": {
        "id": "pRdNuhf8PEiH",
        "colab_type": "code",
        "colab": {}
      },
      "source": [
        "import numpy as np\n",
        "import cv2\n",
        "from skimage.io import imread\n",
        "import os\n",
        "from tqdm import tqdm\n",
        "import pickle\n",
        "from tensorflow.keras.models import Sequential,Model\n",
        "from tensorflow.keras.layers import Input,Conv2D,MaxPooling2D,Dense,Flatten,Concatenate,Lambda,BatchNormalization,Dropout,GlobalAveragePooling2D\n",
        "from tensorflow.keras.regularizers import l2\n",
        "from tensorflow.keras.optimizers import Adam\n",
        "from tensorflow.keras import backend as K\n",
        "import time"
      ],
      "execution_count": 0,
      "outputs": []
    },
    {
      "cell_type": "code",
      "metadata": {
        "id": "TR7H9PZKmtcP",
        "colab_type": "code",
        "colab": {}
      },
      "source": [
        "def load_data(path):\n",
        "  n=0\n",
        "  lang_dict={}\n",
        "  for i in sorted(os.listdir(path)):\n",
        "    lang_dict[i]=[n,n+len(os.listdir(os.path.join(path,i)))-1]\n",
        "    n=n+len(os.listdir(os.path.join(path,i)))\n",
        "  \n",
        "  x=None\n",
        "  y=[]\n",
        "  c=0\n",
        "  for i in tqdm(sorted(os.listdir(path))):\n",
        "    for j in sorted(os.listdir(os.path.join(path,i))):\n",
        "      data=[]\n",
        "      for k in sorted(os.listdir(os.path.join(os.path.join(path,i),j))):\n",
        "        img_path=os.path.join(os.path.join(os.path.join(path,i),j),k)\n",
        "        data.append(imread(img_path))\n",
        "        if(c==0):\n",
        "          y.append(c)\n",
        "        else:\n",
        "          y=np.append(y,c)\n",
        "      data=np.asarray(data)\n",
        "      data=np.expand_dims(data,axis=0)\n",
        "      if(c==0):\n",
        "        x=np.asarray(data)\n",
        "      else:\n",
        "        x=np.append(x,data,axis=0)\n",
        "      c=c+1\n",
        "  y=np.vstack(y)\n",
        "  return x,y,lang_dict"
      ],
      "execution_count": 0,
      "outputs": []
    },
    {
      "cell_type": "code",
      "metadata": {
        "id": "sfg49IEXHj9F",
        "colab_type": "code",
        "colab": {}
      },
      "source": [
        "save_path='/content/drive/My Drive/one shot learning'"
      ],
      "execution_count": 0,
      "outputs": []
    },
    {
      "cell_type": "code",
      "metadata": {
        "id": "1Nug9Vf8py8Y",
        "colab_type": "code",
        "colab": {}
      },
      "source": [
        "# x,y,lang_dict=load_data('/content/images_background')\n",
        "f=open(os.path.join(save_path,'train.pickle'),'rb')\n",
        "x,y,lang_dict=pickle.load(f)\n",
        "f.close()"
      ],
      "execution_count": 0,
      "outputs": []
    },
    {
      "cell_type": "code",
      "metadata": {
        "id": "c2MtirT-saQA",
        "colab_type": "code",
        "colab": {
          "base_uri": "https://localhost:8080/",
          "height": 73
        },
        "outputId": "01345375-5797-4944-d81b-eb1ce3b850ec"
      },
      "source": [
        "print(x.shape)\n",
        "print(y.shape)\n",
        "print(lang_dict['Anglo-Saxon_Futhorc'])"
      ],
      "execution_count": 149,
      "outputs": [
        {
          "output_type": "stream",
          "text": [
            "(964, 20, 105, 105)\n",
            "(19280, 1)\n",
            "[20, 48]\n"
          ],
          "name": "stdout"
        }
      ]
    },
    {
      "cell_type": "code",
      "metadata": {
        "id": "opBNOlWH3LMY",
        "colab_type": "code",
        "colab": {}
      },
      "source": [
        "# f=open(os.path.join(save_path,'train.pickle'),'wb')\n",
        "# pickle.dump((x,y,lang_dict),f)\n",
        "# f.close()"
      ],
      "execution_count": 0,
      "outputs": []
    },
    {
      "cell_type": "code",
      "metadata": {
        "id": "-PmX_jQV9088",
        "colab_type": "code",
        "colab": {}
      },
      "source": [
        "# xval,yval,lang_dict_val=load_data('/content/images_evaluation')\n",
        "f=open(os.path.join(save_path,'test.pickle'),'rb')\n",
        "xval,yval,lang_dict_val=pickle.load(f)\n",
        "f.close()"
      ],
      "execution_count": 0,
      "outputs": []
    },
    {
      "cell_type": "code",
      "metadata": {
        "id": "Eeb_Xfib-dre",
        "colab_type": "code",
        "colab": {
          "base_uri": "https://localhost:8080/",
          "height": 54
        },
        "outputId": "c3850067-0a40-4f36-e862-d01ba04fff77"
      },
      "source": [
        "print(xval.shape)\n",
        "print(yval.shape)"
      ],
      "execution_count": 152,
      "outputs": [
        {
          "output_type": "stream",
          "text": [
            "(659, 20, 105, 105)\n",
            "(13180, 1)\n"
          ],
          "name": "stdout"
        }
      ]
    },
    {
      "cell_type": "code",
      "metadata": {
        "id": "wBDnpSWk-Dos",
        "colab_type": "code",
        "colab": {}
      },
      "source": [
        "# save_path='/content/drive/My Drive/one shot learning'\n",
        "# f=open(os.path.join(save_path,'test.pickle'),'wb')\n",
        "# pickle.dump((xval,yval,lang_dict_val),f)\n",
        "# f.close()"
      ],
      "execution_count": 0,
      "outputs": []
    },
    {
      "cell_type": "code",
      "metadata": {
        "id": "XgDpjJig-i61",
        "colab_type": "code",
        "colab": {}
      },
      "source": [
        "def get_batch(batch_size=32,s='train'):\n",
        "  if(s=='train'):\n",
        "    X=x\n",
        "  else:\n",
        "    X=xval\n",
        "  \n",
        "  n_classes,n_examples,w,h=X.shape\n",
        "\n",
        "  pairs=[np.zeros((batch_size,w,h,1)) for i in range(2)]\n",
        "  targets=np.zeros((batch_size,))\n",
        "\n",
        "  category=np.random.choice(n_classes,size=(batch_size,),replace=False)\n",
        "\n",
        "  targets[batch_size//2:]=1\n",
        "\n",
        "  for i in range(batch_size):\n",
        "    cat=category[i]\n",
        "    idx1=np.random.randint(0,n_examples)\n",
        "    pairs[0][i,:,:,:]=X[cat,idx1].reshape(w,h,1)\n",
        "\n",
        "    if(targets[i]==1):\n",
        "      cat2=cat\n",
        "    else:\n",
        "      cat2=(cat + np.random.randint(1,n_classes)) % n_classes\n",
        "    idx2=np.random.randint(0,n_examples)\n",
        "\n",
        "    pairs[1][i,:,:,:]=X[cat2,idx2].reshape(w,h,1)\n",
        "\n",
        "  return pairs,targets"
      ],
      "execution_count": 0,
      "outputs": []
    },
    {
      "cell_type": "code",
      "metadata": {
        "id": "AJ7SCNESENmB",
        "colab_type": "code",
        "colab": {}
      },
      "source": [
        "def initialize_weights(shape, dtype):\n",
        "    \"\"\"\n",
        "        The paper, http://www.cs.utoronto.ca/~gkoch/files/msc-thesis.pdf\n",
        "        suggests to initialize CNN layer weights with mean as 0.0 and standard deviation of 0.01\n",
        "    \"\"\"\n",
        "    return np.random.normal(loc = 0.0, scale = 1e-2, size = shape)"
      ],
      "execution_count": 0,
      "outputs": []
    },
    {
      "cell_type": "code",
      "metadata": {
        "id": "WEpd6-RdEOTl",
        "colab_type": "code",
        "colab": {}
      },
      "source": [
        "def initialize_bias(shape, dtype):\n",
        "    \"\"\"\n",
        "        The paper, http://www.cs.utoronto.ca/~gkoch/files/msc-thesis.pdf\n",
        "        suggests to initialize CNN layer bias with mean as 0.5 and standard deviation of 0.01\n",
        "    \"\"\"\n",
        "    return np.random.normal(loc = 0.5, scale = 1e-2, size = shape)"
      ],
      "execution_count": 0,
      "outputs": []
    },
    {
      "cell_type": "code",
      "metadata": {
        "id": "-IlhHxbcDfZ1",
        "colab_type": "code",
        "colab": {}
      },
      "source": [
        "#hyperparameters\n",
        "\n",
        "input_shape=(105,105,1)\n",
        "epochs=20000\n",
        "n_way = 20\n",
        "n_way_trials=250\n",
        "batch_size=32"
      ],
      "execution_count": 0,
      "outputs": []
    },
    {
      "cell_type": "code",
      "metadata": {
        "id": "CtEnUurrDSrd",
        "colab_type": "code",
        "colab": {}
      },
      "source": [
        "def get_siamese_model(input_shape):\n",
        "    \"\"\"\n",
        "        Model architecture based on the one provided in: http://www.cs.utoronto.ca/~gkoch/files/msc-thesis.pdf\n",
        "    \"\"\"\n",
        "    \n",
        "    # Define the tensors for the two input images\n",
        "    left_input = Input(input_shape)\n",
        "    right_input = Input(input_shape)\n",
        "    \n",
        "    # Convolutional Neural Network\n",
        "    model = Sequential()\n",
        "    model.add(Conv2D(64, (7,7), activation='relu', input_shape=input_shape,\n",
        "                   kernel_initializer=initialize_weights, kernel_regularizer=l2(2e-4)))\n",
        "    model.add(MaxPooling2D())\n",
        "    model.add(Conv2D(128, (7,7), activation='relu',\n",
        "                     kernel_initializer=initialize_weights,\n",
        "                     bias_initializer=initialize_bias, kernel_regularizer=l2(2e-4)))\n",
        "    model.add(MaxPooling2D())\n",
        "    model.add(Conv2D(128, (4,4), activation='relu', kernel_initializer=initialize_weights,\n",
        "                     bias_initializer=initialize_bias, kernel_regularizer=l2(2e-4)))\n",
        "    model.add(MaxPooling2D())\n",
        "    model.add(Conv2D(256, (4,4), activation='relu', kernel_initializer=initialize_weights,\n",
        "                     bias_initializer=initialize_bias, kernel_regularizer=l2(2e-4)))\n",
        "    model.add(Flatten())\n",
        "    model.add(Dense(4096, activation='sigmoid',\n",
        "                   kernel_regularizer=l2(1e-3),\n",
        "                   kernel_initializer=initialize_weights,bias_initializer=initialize_bias))\n",
        "    \n",
        "    # Generate the encodings (feature vectors) for the two images\n",
        "    encoded_l = model(left_input)\n",
        "    encoded_r = model(right_input)\n",
        "    \n",
        "    # Add a customized layer to compute the absolute difference between the encodings\n",
        "    L1_layer = Lambda(lambda tensors:K.abs(tensors[0] - tensors[1]))\n",
        "    L1_distance = L1_layer([encoded_l, encoded_r])\n",
        "    \n",
        "    # Add a dense layer with a sigmoid unit to generate the similarity score\n",
        "    prediction = Dense(1,activation='sigmoid',bias_initializer=initialize_bias)(L1_distance)\n",
        "    \n",
        "    # Connect the inputs with the outputs\n",
        "    siamese_net = Model(inputs=[left_input,right_input],outputs=prediction)\n",
        "    \n",
        "    # return the model\n",
        "    return siamese_net"
      ],
      "execution_count": 0,
      "outputs": []
    },
    {
      "cell_type": "code",
      "metadata": {
        "id": "ySOBKj6GDa61",
        "colab_type": "code",
        "colab": {}
      },
      "source": [
        "model=get_siamese_model(input_shape)"
      ],
      "execution_count": 0,
      "outputs": []
    },
    {
      "cell_type": "code",
      "metadata": {
        "id": "iimBLzKVGEnK",
        "colab_type": "code",
        "colab": {}
      },
      "source": [
        "optimizer = Adam(lr = 0.00006)\n",
        "model.compile(loss=\"binary_crossentropy\",optimizer=optimizer)"
      ],
      "execution_count": 0,
      "outputs": []
    },
    {
      "cell_type": "code",
      "metadata": {
        "id": "y96TZL-SOmFi",
        "colab_type": "code",
        "colab": {}
      },
      "source": [
        "def test_nway(n):\n",
        "  n_category,n_examples,w,h=xval.shape\n",
        "\n",
        "  test_cat=np.random.choice(n_category,replace=False)\n",
        "  test_id=np.random.randint(0,n_examples)\n",
        "\n",
        "  support_cat=test_cat\n",
        "  support_id=np.random.randint(0,n_examples)\n",
        "  \n",
        "  pairs=[np.zeros((n,w,h,1)) for i in range(2)]\n",
        "\n",
        "  pairs[0][0,:,:,:]=xval[test_cat,test_id,:,:].reshape(w,h,1)\n",
        "  pairs[1][0,:,:,:]=xval[support_cat,support_id,:,:].reshape(w,h,1)\n",
        "\n",
        "  for i in range(1,n-1):\n",
        "    support_cat=np.random.choice(n_category,replace=False)\n",
        "    if support_cat==test_cat:\n",
        "      while support_cat==test_cat:\n",
        "        support_cat=np.random.choice(n_category,replace=False)\n",
        "    support_id=np.random.randint(0,n_examples)\n",
        "\n",
        "    pairs[0][i,:,:,:]=xval[test_cat,test_id,:,:].reshape(w,h,1)\n",
        "    pairs[1][i,:,:,:]=xval[support_cat,support_id,:,:].reshape(w,h,1)\n",
        "  \n",
        "  preds=model.predict(pairs)\n",
        "  \n",
        "  if np.argmax(preds)==0:\n",
        "    return True\n",
        "  else:\n",
        "    return False"
      ],
      "execution_count": 0,
      "outputs": []
    },
    {
      "cell_type": "code",
      "metadata": {
        "id": "vXm7YOoY0r2z",
        "colab_type": "code",
        "colab": {}
      },
      "source": [
        "def get_nway_acc(n,trials):\n",
        "  correct=0.0\n",
        "  for i in range(trials):\n",
        "    if test_nway(n):\n",
        "      correct=correct+1\n",
        "  return 100*(correct/float(trials))"
      ],
      "execution_count": 0,
      "outputs": []
    },
    {
      "cell_type": "code",
      "metadata": {
        "id": "ptAV38RY1ZQm",
        "colab_type": "code",
        "colab": {
          "base_uri": "https://localhost:8080/",
          "height": 1000
        },
        "outputId": "4ec0f3e5-f3d1-438c-aaa8-e1c875809a8f"
      },
      "source": [
        "print(\"Starting training process!\")\n",
        "t_start = time.time()\n",
        "acc=[]\n",
        "losses=[]\n",
        "for i in range(epochs):\n",
        "  (inputs,targets) = get_batch(batch_size)\n",
        "  loss = model.train_on_batch(inputs, targets)\n",
        "  if i % 300 == 0:\n",
        "        print(\"Time for {0} iterations: {1} mins\".format(i+1, (time.time()-t_start)//60.0))\n",
        "        print(\"Train Loss: {0}\".format(loss)) \n",
        "        val_acc = round(get_nway_acc(n_way, n_way_trials),2)\n",
        "        losses.append(loss)\n",
        "        print('The 20-way with 250 trials validation accuracy is:',val_acc)\n",
        "        print('\\n')\n",
        "        acc.append(val_acc)"
      ],
      "execution_count": 163,
      "outputs": [
        {
          "output_type": "stream",
          "text": [
            "Starting training process!\n",
            "Time for 1 iterations: 0.0 mins\n",
            "Train Loss: 4.535979270935059\n",
            "The 20-way with 250 trials validation accuracy is: 9.2\n",
            "\n",
            "\n",
            "Time for 301 iterations: 0.0 mins\n",
            "Train Loss: 1.8779664039611816\n",
            "The 20-way with 250 trials validation accuracy is: 27.2\n",
            "\n",
            "\n",
            "Time for 601 iterations: 1.0 mins\n",
            "Train Loss: 1.2259620428085327\n",
            "The 20-way with 250 trials validation accuracy is: 43.6\n",
            "\n",
            "\n",
            "Time for 901 iterations: 2.0 mins\n",
            "Train Loss: 1.0009809732437134\n",
            "The 20-way with 250 trials validation accuracy is: 57.6\n",
            "\n",
            "\n",
            "Time for 1201 iterations: 3.0 mins\n",
            "Train Loss: 0.835867166519165\n",
            "The 20-way with 250 trials validation accuracy is: 50.8\n",
            "\n",
            "\n",
            "Time for 1501 iterations: 3.0 mins\n",
            "Train Loss: 0.6929645538330078\n",
            "The 20-way with 250 trials validation accuracy is: 63.6\n",
            "\n",
            "\n",
            "Time for 1801 iterations: 4.0 mins\n",
            "Train Loss: 0.5880112051963806\n",
            "The 20-way with 250 trials validation accuracy is: 64.4\n",
            "\n",
            "\n",
            "Time for 2101 iterations: 5.0 mins\n",
            "Train Loss: 0.6138739585876465\n",
            "The 20-way with 250 trials validation accuracy is: 65.6\n",
            "\n",
            "\n",
            "Time for 2401 iterations: 6.0 mins\n",
            "Train Loss: 0.4701850414276123\n",
            "The 20-way with 250 trials validation accuracy is: 66.8\n",
            "\n",
            "\n",
            "Time for 2701 iterations: 6.0 mins\n",
            "Train Loss: 0.39159947633743286\n",
            "The 20-way with 250 trials validation accuracy is: 72.4\n",
            "\n",
            "\n",
            "Time for 3001 iterations: 7.0 mins\n",
            "Train Loss: 0.406624436378479\n",
            "The 20-way with 250 trials validation accuracy is: 60.8\n",
            "\n",
            "\n",
            "Time for 3301 iterations: 8.0 mins\n",
            "Train Loss: 0.47632813453674316\n",
            "The 20-way with 250 trials validation accuracy is: 64.8\n",
            "\n",
            "\n",
            "Time for 3601 iterations: 9.0 mins\n",
            "Train Loss: 0.49356308579444885\n",
            "The 20-way with 250 trials validation accuracy is: 67.2\n",
            "\n",
            "\n",
            "Time for 3901 iterations: 9.0 mins\n",
            "Train Loss: 0.5152710676193237\n",
            "The 20-way with 250 trials validation accuracy is: 68.8\n",
            "\n",
            "\n",
            "Time for 4201 iterations: 10.0 mins\n",
            "Train Loss: 0.31663283705711365\n",
            "The 20-way with 250 trials validation accuracy is: 68.0\n",
            "\n",
            "\n",
            "Time for 4501 iterations: 11.0 mins\n",
            "Train Loss: 0.36140066385269165\n",
            "The 20-way with 250 trials validation accuracy is: 60.4\n",
            "\n",
            "\n",
            "Time for 4801 iterations: 12.0 mins\n",
            "Train Loss: 0.3711615800857544\n",
            "The 20-way with 250 trials validation accuracy is: 72.0\n",
            "\n",
            "\n",
            "Time for 5101 iterations: 12.0 mins\n",
            "Train Loss: 0.30267855525016785\n",
            "The 20-way with 250 trials validation accuracy is: 72.8\n",
            "\n",
            "\n",
            "Time for 5401 iterations: 13.0 mins\n",
            "Train Loss: 0.31144607067108154\n",
            "The 20-way with 250 trials validation accuracy is: 69.6\n",
            "\n",
            "\n",
            "Time for 5701 iterations: 14.0 mins\n",
            "Train Loss: 0.37881168723106384\n",
            "The 20-way with 250 trials validation accuracy is: 73.2\n",
            "\n",
            "\n",
            "Time for 6001 iterations: 15.0 mins\n",
            "Train Loss: 0.3693785071372986\n",
            "The 20-way with 250 trials validation accuracy is: 76.8\n",
            "\n",
            "\n",
            "Time for 6301 iterations: 15.0 mins\n",
            "Train Loss: 0.27019962668418884\n",
            "The 20-way with 250 trials validation accuracy is: 72.0\n",
            "\n",
            "\n",
            "Time for 6601 iterations: 16.0 mins\n",
            "Train Loss: 0.26078885793685913\n",
            "The 20-way with 250 trials validation accuracy is: 72.4\n",
            "\n",
            "\n",
            "Time for 6901 iterations: 17.0 mins\n",
            "Train Loss: 0.25596195459365845\n",
            "The 20-way with 250 trials validation accuracy is: 67.2\n",
            "\n",
            "\n",
            "Time for 7201 iterations: 18.0 mins\n",
            "Train Loss: 0.3823734521865845\n",
            "The 20-way with 250 trials validation accuracy is: 71.6\n",
            "\n",
            "\n",
            "Time for 7501 iterations: 18.0 mins\n",
            "Train Loss: 0.2441893219947815\n",
            "The 20-way with 250 trials validation accuracy is: 72.4\n",
            "\n",
            "\n",
            "Time for 7801 iterations: 19.0 mins\n",
            "Train Loss: 0.3296319842338562\n",
            "The 20-way with 250 trials validation accuracy is: 69.2\n",
            "\n",
            "\n",
            "Time for 8101 iterations: 20.0 mins\n",
            "Train Loss: 0.2872084379196167\n",
            "The 20-way with 250 trials validation accuracy is: 66.0\n",
            "\n",
            "\n",
            "Time for 8401 iterations: 21.0 mins\n",
            "Train Loss: 0.33907923102378845\n",
            "The 20-way with 250 trials validation accuracy is: 72.4\n",
            "\n",
            "\n",
            "Time for 8701 iterations: 21.0 mins\n",
            "Train Loss: 0.3463701009750366\n",
            "The 20-way with 250 trials validation accuracy is: 72.4\n",
            "\n",
            "\n",
            "Time for 9001 iterations: 22.0 mins\n",
            "Train Loss: 0.2424336075782776\n",
            "The 20-way with 250 trials validation accuracy is: 70.0\n",
            "\n",
            "\n",
            "Time for 9301 iterations: 23.0 mins\n",
            "Train Loss: 0.5703344345092773\n",
            "The 20-way with 250 trials validation accuracy is: 75.6\n",
            "\n",
            "\n",
            "Time for 9601 iterations: 24.0 mins\n",
            "Train Loss: 0.21334165334701538\n",
            "The 20-way with 250 trials validation accuracy is: 68.0\n",
            "\n",
            "\n",
            "Time for 9901 iterations: 25.0 mins\n",
            "Train Loss: 0.1895221322774887\n",
            "The 20-way with 250 trials validation accuracy is: 65.2\n",
            "\n",
            "\n",
            "Time for 10201 iterations: 25.0 mins\n",
            "Train Loss: 0.1753990203142166\n",
            "The 20-way with 250 trials validation accuracy is: 73.2\n",
            "\n",
            "\n",
            "Time for 10501 iterations: 26.0 mins\n",
            "Train Loss: 0.27122023701667786\n",
            "The 20-way with 250 trials validation accuracy is: 70.4\n",
            "\n",
            "\n",
            "Time for 10801 iterations: 27.0 mins\n",
            "Train Loss: 0.21638859808444977\n",
            "The 20-way with 250 trials validation accuracy is: 74.4\n",
            "\n",
            "\n",
            "Time for 11101 iterations: 28.0 mins\n",
            "Train Loss: 0.19651782512664795\n",
            "The 20-way with 250 trials validation accuracy is: 72.8\n",
            "\n",
            "\n",
            "Time for 11401 iterations: 28.0 mins\n",
            "Train Loss: 0.19367778301239014\n",
            "The 20-way with 250 trials validation accuracy is: 72.0\n",
            "\n",
            "\n",
            "Time for 11701 iterations: 29.0 mins\n",
            "Train Loss: 0.19983133673667908\n",
            "The 20-way with 250 trials validation accuracy is: 68.8\n",
            "\n",
            "\n",
            "Time for 12001 iterations: 30.0 mins\n",
            "Train Loss: 0.18942931294441223\n",
            "The 20-way with 250 trials validation accuracy is: 78.0\n",
            "\n",
            "\n",
            "Time for 12301 iterations: 31.0 mins\n",
            "Train Loss: 0.22133202850818634\n",
            "The 20-way with 250 trials validation accuracy is: 72.0\n",
            "\n",
            "\n",
            "Time for 12601 iterations: 31.0 mins\n",
            "Train Loss: 0.28107666969299316\n",
            "The 20-way with 250 trials validation accuracy is: 71.6\n",
            "\n",
            "\n",
            "Time for 12901 iterations: 32.0 mins\n",
            "Train Loss: 0.24114790558815002\n",
            "The 20-way with 250 trials validation accuracy is: 69.2\n",
            "\n",
            "\n",
            "Time for 13201 iterations: 33.0 mins\n",
            "Train Loss: 0.19688260555267334\n",
            "The 20-way with 250 trials validation accuracy is: 75.2\n",
            "\n",
            "\n",
            "Time for 13501 iterations: 34.0 mins\n",
            "Train Loss: 0.29030677676200867\n",
            "The 20-way with 250 trials validation accuracy is: 73.2\n",
            "\n",
            "\n",
            "Time for 13801 iterations: 34.0 mins\n",
            "Train Loss: 0.1541375070810318\n",
            "The 20-way with 250 trials validation accuracy is: 75.6\n",
            "\n",
            "\n",
            "Time for 14101 iterations: 35.0 mins\n",
            "Train Loss: 0.14755496382713318\n",
            "The 20-way with 250 trials validation accuracy is: 72.4\n",
            "\n",
            "\n",
            "Time for 14401 iterations: 36.0 mins\n",
            "Train Loss: 0.19442076981067657\n",
            "The 20-way with 250 trials validation accuracy is: 76.8\n",
            "\n",
            "\n",
            "Time for 14701 iterations: 37.0 mins\n",
            "Train Loss: 0.26534855365753174\n",
            "The 20-way with 250 trials validation accuracy is: 73.6\n",
            "\n",
            "\n",
            "Time for 15001 iterations: 37.0 mins\n",
            "Train Loss: 0.2796897888183594\n",
            "The 20-way with 250 trials validation accuracy is: 76.4\n",
            "\n",
            "\n",
            "Time for 15301 iterations: 38.0 mins\n",
            "Train Loss: 0.16334134340286255\n",
            "The 20-way with 250 trials validation accuracy is: 70.0\n",
            "\n",
            "\n",
            "Time for 15601 iterations: 39.0 mins\n",
            "Train Loss: 0.2846718728542328\n",
            "The 20-way with 250 trials validation accuracy is: 77.2\n",
            "\n",
            "\n",
            "Time for 15901 iterations: 40.0 mins\n",
            "Train Loss: 0.15257689356803894\n",
            "The 20-way with 250 trials validation accuracy is: 71.2\n",
            "\n",
            "\n",
            "Time for 16201 iterations: 40.0 mins\n",
            "Train Loss: 0.17435066401958466\n",
            "The 20-way with 250 trials validation accuracy is: 72.8\n",
            "\n",
            "\n",
            "Time for 16501 iterations: 41.0 mins\n",
            "Train Loss: 0.21725735068321228\n",
            "The 20-way with 250 trials validation accuracy is: 80.0\n",
            "\n",
            "\n",
            "Time for 16801 iterations: 42.0 mins\n",
            "Train Loss: 0.27873268723487854\n",
            "The 20-way with 250 trials validation accuracy is: 67.2\n",
            "\n",
            "\n",
            "Time for 17101 iterations: 43.0 mins\n",
            "Train Loss: 0.18366549909114838\n",
            "The 20-way with 250 trials validation accuracy is: 79.2\n",
            "\n",
            "\n",
            "Time for 17401 iterations: 44.0 mins\n",
            "Train Loss: 0.14334222674369812\n",
            "The 20-way with 250 trials validation accuracy is: 76.0\n",
            "\n",
            "\n",
            "Time for 17701 iterations: 44.0 mins\n",
            "Train Loss: 0.16788217425346375\n",
            "The 20-way with 250 trials validation accuracy is: 77.6\n",
            "\n",
            "\n",
            "Time for 18001 iterations: 45.0 mins\n",
            "Train Loss: 0.1371837556362152\n",
            "The 20-way with 250 trials validation accuracy is: 77.2\n",
            "\n",
            "\n",
            "Time for 18301 iterations: 46.0 mins\n",
            "Train Loss: 0.144159734249115\n",
            "The 20-way with 250 trials validation accuracy is: 72.8\n",
            "\n",
            "\n",
            "Time for 18601 iterations: 47.0 mins\n",
            "Train Loss: 0.15605315566062927\n",
            "The 20-way with 250 trials validation accuracy is: 77.2\n",
            "\n",
            "\n",
            "Time for 18901 iterations: 47.0 mins\n",
            "Train Loss: 0.14813168346881866\n",
            "The 20-way with 250 trials validation accuracy is: 73.6\n",
            "\n",
            "\n",
            "Time for 19201 iterations: 48.0 mins\n",
            "Train Loss: 0.1431330442428589\n",
            "The 20-way with 250 trials validation accuracy is: 71.2\n",
            "\n",
            "\n",
            "Time for 19501 iterations: 49.0 mins\n",
            "Train Loss: 0.18011291325092316\n",
            "The 20-way with 250 trials validation accuracy is: 72.0\n",
            "\n",
            "\n",
            "Time for 19801 iterations: 50.0 mins\n",
            "Train Loss: 0.1965196132659912\n",
            "The 20-way with 250 trials validation accuracy is: 75.6\n",
            "\n",
            "\n"
          ],
          "name": "stdout"
        }
      ]
    },
    {
      "cell_type": "code",
      "metadata": {
        "id": "_LgYEawJrUXu",
        "colab_type": "code",
        "colab": {
          "base_uri": "https://localhost:8080/",
          "height": 314
        },
        "outputId": "fd1a2d1c-df61-4837-cd3c-a3a241201e6d"
      },
      "source": [
        "import matplotlib.pyplot as plt\n",
        "\n",
        "plt.plot(range(1,20000,300),acc)\n",
        "plt.title('Val Accuracy')\n",
        "plt.xlabel('Epochs')\n",
        "plt.ylabel('Accuracy')"
      ],
      "execution_count": 164,
      "outputs": [
        {
          "output_type": "execute_result",
          "data": {
            "text/plain": [
              "Text(0, 0.5, 'Accuracy')"
            ]
          },
          "metadata": {
            "tags": []
          },
          "execution_count": 164
        },
        {
          "output_type": "display_data",
          "data": {
            "image/png": "[encoded data removed]",
            "text/plain": [
              "<Figure size 432x288 with 1 Axes>"
            ]
          },
          "metadata": {
            "tags": [],
            "needs_background": "light"
          }
        }
      ]
    },
    {
      "cell_type": "code",
      "metadata": {
        "id": "a4FLgXWurrPL",
        "colab_type": "code",
        "colab": {
          "base_uri": "https://localhost:8080/",
          "height": 314
        },
        "outputId": "34ddf076-ecb3-4680-858b-066cba4978e7"
      },
      "source": [
        "import matplotlib.pyplot as plt\n",
        "\n",
        "plt.plot(range(1,20000,300),losses)\n",
        "plt.title('Training Loss')\n",
        "plt.xlabel('Epochs')\n",
        "plt.ylabel('Loss')"
      ],
      "execution_count": 165,
      "outputs": [
        {
          "output_type": "execute_result",
          "data": {
            "text/plain": [
              "Text(0, 0.5, 'Loss')"
            ]
          },
          "metadata": {
            "tags": []
          },
          "execution_count": 165
        },
        {
          "output_type": "display_data",
          "data": {
            "image/png": "[encoded data removed]",
            "text/plain": [
              "<Figure size 432x288 with 1 Axes>"
            ]
          },
          "metadata": {
            "tags": [],
            "needs_background": "light"
          }
        }
      ]
    },
    {
      "cell_type": "code",
      "metadata": {
        "id": "6__xcK0Gu2lg",
        "colab_type": "code",
        "colab": {}
      },
      "source": [
        "def knn_acc(n,k):\n",
        "\n",
        "  correct=0.0\n",
        "\n",
        "  for i in range(k):\n",
        "\n",
        "    pairs,_=get_batch(n,'val')\n",
        "\n",
        "    distance=[]\n",
        "\n",
        "    for i in range(n):\n",
        "      img1=np.flatten(pairs[0][i])\n",
        "      img2=np.flatten(pairs[1][i])\n",
        "\n",
        "      distance.append(np.sqrt(np.sum((img1-img2)**2)))\n",
        "    \n",
        "    preds=model.predict(pairs)\n",
        "\n",
        "    if np.argmax(preds)==np.argmin(distance):\n",
        "      correct=correct+1\n",
        "    \n",
        "  return round(100*(correct/float(k)),2)\n"
      ],
      "execution_count": 0,
      "outputs": []
    }
  ]
}