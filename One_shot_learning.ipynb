{
  "nbformat": 4,
  "nbformat_minor": 0,
  "metadata": {
    "colab": {
      "name": "One shot learning.ipynb",
      "provenance": [],
      "collapsed_sections": [],
      "mount_file_id": "1udQtkZlojejNqlohkLNthp7oFlolO_3H",
      "authorship_tag": "ABX9TyPcQ7eQJFEJJhawGMcOQNVN",
      "include_colab_link": true
    },
    "kernelspec": {
      "name": "python3",
      "display_name": "Python 3"
    },
    "accelerator": "GPU"
  },
  "cells": [
    {
      "cell_type": "markdown",
      "metadata": {
        "id": "view-in-github",
        "colab_type": "text"
      },
      "source": [
        "<a href=\"https://colab.research.google.com/github/mittshah2/One-Shot-Learning/blob/dev/One_shot_learning.ipynb\" target=\"_parent\"><img src=\"https://colab.research.google.com/assets/colab-badge.svg\" alt=\"Open In Colab\"/></a>"
      ]
    },
    {
      "cell_type": "code",
      "metadata": {
        "id": "nWM70RHhp_DR",
        "colab_type": "code",
        "colab": {}
      },
      "source": [
        "# !unzip -uq '/content/drive/My Drive/one shot learning/train.zip' -d '/content'\n",
        "# !unzip -uq '/content/drive/My Drive/one shot learning/test.zip' -d '/content'"
      ],
      "execution_count": 0,
      "outputs": []
    },
    {
      "cell_type": "code",
      "metadata": {
        "id": "pRdNuhf8PEiH",
        "colab_type": "code",
        "colab": {}
      },
      "source": [
        "import numpy as np\n",
        "import cv2\n",
        "from skimage.io import imread\n",
        "import os\n",
        "from tqdm import tqdm\n",
        "import pickle\n",
        "from tensorflow.keras.models import Sequential,Model\n",
        "from tensorflow.keras.layers import Input,Conv2D,MaxPooling2D,Dense,Flatten,Concatenate,Lambda,BatchNormalization,Dropout\n",
        "from tensorflow.keras.regularizers import l2\n",
        "from tensorflow.keras.optimizers import Adam\n",
        "from tensorflow.keras import backend as K\n",
        "import time"
      ],
      "execution_count": 0,
      "outputs": []
    },
    {
      "cell_type": "code",
      "metadata": {
        "id": "TR7H9PZKmtcP",
        "colab_type": "code",
        "colab": {}
      },
      "source": [
        "def load_data(path):\n",
        "  n=0\n",
        "  lang_dict={}\n",
        "  for i in sorted(os.listdir(path)):\n",
        "    lang_dict[i]=[n,n+len(os.listdir(os.path.join(path,i)))-1]\n",
        "    n=n+len(os.listdir(os.path.join(path,i)))\n",
        "  \n",
        "  x=None\n",
        "  y=[]\n",
        "  c=0\n",
        "  for i in tqdm(sorted(os.listdir(path))):\n",
        "    for j in sorted(os.listdir(os.path.join(path,i))):\n",
        "      data=[]\n",
        "      for k in sorted(os.listdir(os.path.join(os.path.join(path,i),j))):\n",
        "        img_path=os.path.join(os.path.join(os.path.join(path,i),j),k)\n",
        "        data.append(imread(img_path))\n",
        "        if(c==0):\n",
        "          y.append(c)\n",
        "        else:\n",
        "          y=np.append(y,c)\n",
        "      data=np.asarray(data)\n",
        "      data=np.expand_dims(data,axis=0)\n",
        "      if(c==0):\n",
        "        x=np.asarray(data)\n",
        "      else:\n",
        "        x=np.append(x,data,axis=0)\n",
        "      c=c+1\n",
        "  y=np.vstack(y)\n",
        "  return x,y,lang_dict"
      ],
      "execution_count": 0,
      "outputs": []
    },
    {
      "cell_type": "code",
      "metadata": {
        "id": "sfg49IEXHj9F",
        "colab_type": "code",
        "colab": {}
      },
      "source": [
        "save_path='/content/drive/My Drive/one shot learning'"
      ],
      "execution_count": 0,
      "outputs": []
    },
    {
      "cell_type": "code",
      "metadata": {
        "id": "1Nug9Vf8py8Y",
        "colab_type": "code",
        "colab": {}
      },
      "source": [
        "# x,y,lang_dict=load_data('/content/images_background')\n",
        "f=open(os.path.join(save_path,'train.pickle'),'rb')\n",
        "x,y,lang_dict=pickle.load(f)\n",
        "f.close()"
      ],
      "execution_count": 0,
      "outputs": []
    },
    {
      "cell_type": "code",
      "metadata": {
        "id": "c2MtirT-saQA",
        "colab_type": "code",
        "colab": {
          "base_uri": "https://localhost:8080/",
          "height": 73
        },
        "outputId": "7b4c8fba-87ee-4a7c-a5b7-f01b08e75654"
      },
      "source": [
        "print(x.shape)\n",
        "print(y.shape)\n",
        "print(lang_dict['Anglo-Saxon_Futhorc'])"
      ],
      "execution_count": 108,
      "outputs": [
        {
          "output_type": "stream",
          "text": [
            "(964, 20, 105, 105)\n",
            "(19280, 1)\n",
            "[20, 48]\n"
          ],
          "name": "stdout"
        }
      ]
    },
    {
      "cell_type": "code",
      "metadata": {
        "id": "opBNOlWH3LMY",
        "colab_type": "code",
        "colab": {}
      },
      "source": [
        "# f=open(os.path.join(save_path,'train.pickle'),'wb')\n",
        "# pickle.dump((x,y,lang_dict),f)\n",
        "# f.close()"
      ],
      "execution_count": 0,
      "outputs": []
    },
    {
      "cell_type": "code",
      "metadata": {
        "id": "-PmX_jQV9088",
        "colab_type": "code",
        "colab": {}
      },
      "source": [
        "# xval,yval,lang_dict_val=load_data('/content/images_evaluation')\n",
        "f=open(os.path.join(save_path,'test.pickle'),'rb')\n",
        "xval,yval,lang_dict_val=pickle.load(f)\n",
        "f.close()"
      ],
      "execution_count": 0,
      "outputs": []
    },
    {
      "cell_type": "code",
      "metadata": {
        "id": "Eeb_Xfib-dre",
        "colab_type": "code",
        "colab": {
          "base_uri": "https://localhost:8080/",
          "height": 54
        },
        "outputId": "2e2abe49-d970-4c6d-f1a2-e97a746bf208"
      },
      "source": [
        "print(xval.shape)\n",
        "print(yval.shape)"
      ],
      "execution_count": 111,
      "outputs": [
        {
          "output_type": "stream",
          "text": [
            "(659, 20, 105, 105)\n",
            "(13180, 1)\n"
          ],
          "name": "stdout"
        }
      ]
    },
    {
      "cell_type": "code",
      "metadata": {
        "id": "wBDnpSWk-Dos",
        "colab_type": "code",
        "colab": {}
      },
      "source": [
        "# save_path='/content/drive/My Drive/one shot learning'\n",
        "# f=open(os.path.join(save_path,'test.pickle'),'wb')\n",
        "# pickle.dump((xval,yval,lang_dict_val),f)\n",
        "# f.close()"
      ],
      "execution_count": 0,
      "outputs": []
    },
    {
      "cell_type": "code",
      "metadata": {
        "id": "XgDpjJig-i61",
        "colab_type": "code",
        "colab": {}
      },
      "source": [
        "def get_batch(batch_size=32,s='train'):\n",
        "  if(s=='train'):\n",
        "    X=x\n",
        "  else:\n",
        "    X=xval\n",
        "  \n",
        "  n_classes,n_examples,w,h=X.shape\n",
        "\n",
        "  pairs=[np.zeros((batch_size,w,h,1)) for i in range(2)]\n",
        "  targets=np.zeros((batch_size,))\n",
        "\n",
        "  category=np.random.choice(n_classes,size=(batch_size,),replace=False)\n",
        "\n",
        "  targets[batch_size//2:]=1\n",
        "\n",
        "  for i in range(batch_size):\n",
        "    cat=category[i]\n",
        "    idx1=np.random.randint(0,n_examples)\n",
        "    pairs[0][i,:,:,:]=X[cat,idx1].reshape(w,h,1)\n",
        "\n",
        "    if(targets[i]==1):\n",
        "      cat2=cat\n",
        "    else:\n",
        "      cat2=(cat + np.random.randint(1,n_classes)) % n_classes\n",
        "    idx2=np.random.randint(0,n_examples)\n",
        "\n",
        "    pairs[1][i,:,:,:]=X[cat2,idx2].reshape(w,h,1)\n",
        "\n",
        "  return pairs,targets"
      ],
      "execution_count": 0,
      "outputs": []
    },
    {
      "cell_type": "code",
      "metadata": {
        "id": "AJ7SCNESENmB",
        "colab_type": "code",
        "colab": {}
      },
      "source": [
        "def initialize_weights(shape, dtype):\n",
        "    \"\"\"\n",
        "        The paper, http://www.cs.utoronto.ca/~gkoch/files/msc-thesis.pdf\n",
        "        suggests to initialize CNN layer weights with mean as 0.0 and standard deviation of 0.01\n",
        "    \"\"\"\n",
        "    return np.random.normal(loc = 0.0, scale = 1e-2, size = shape)"
      ],
      "execution_count": 0,
      "outputs": []
    },
    {
      "cell_type": "code",
      "metadata": {
        "id": "WEpd6-RdEOTl",
        "colab_type": "code",
        "colab": {}
      },
      "source": [
        "def initialize_bias(shape, dtype):\n",
        "    \"\"\"\n",
        "        The paper, http://www.cs.utoronto.ca/~gkoch/files/msc-thesis.pdf\n",
        "        suggests to initialize CNN layer bias with mean as 0.5 and standard deviation of 0.01\n",
        "    \"\"\"\n",
        "    return np.random.normal(loc = 0.5, scale = 1e-2, size = shape)"
      ],
      "execution_count": 0,
      "outputs": []
    },
    {
      "cell_type": "code",
      "metadata": {
        "id": "-IlhHxbcDfZ1",
        "colab_type": "code",
        "colab": {}
      },
      "source": [
        "#hyperparameters\n",
        "\n",
        "input_shape=(105,105,1)\n",
        "epochs=20000\n",
        "n_way = 20\n",
        "n_way_trials=250\n",
        "batch_size=32"
      ],
      "execution_count": 0,
      "outputs": []
    },
    {
      "cell_type": "code",
      "metadata": {
        "id": "CtEnUurrDSrd",
        "colab_type": "code",
        "colab": {}
      },
      "source": [
        "def get_siamese_model(input_shape):\n",
        "\n",
        "  from tensorflow.keras.applications.resnet50 import ResNet50\n",
        "\n",
        "  pre_trained_model = ResNet50(input_shape = input_shape, \n",
        "                                include_top = False, \n",
        "                                weights = 'imagenet')\n",
        "  \n",
        "  for layer in pre_trained_model.layers:\n",
        "    layer.trainable = False\n",
        "  \n",
        "  last_layer = pre_trained_model.get_layer('conv5_block3_add')\n",
        "  last_output = last_layer.outpu\n",
        "\n",
        "  \n",
        "    \n",
        "    # Define the tensors for the two input images\n",
        "    left_input = Input(input_shape)\n",
        "    right_input = Input(input_shape)\n",
        "    \n",
        "    # Convolutional Neural Network\n",
        "    model = Sequential()\n",
        "    model.add(Conv2D(64, (5,5), activation='relu', input_shape=input_shape,\n",
        "                   kernel_initializer=initialize_weights, kernel_regularizer=l2(2e-4)))\n",
        "    model.add(MaxPooling2D())\n",
        "    \n",
        "    model.add(BatchNormalization())\n",
        "    model.add(Conv2D(128, (5,5), activation='relu',\n",
        "                     kernel_initializer=initialize_weights,\n",
        "                     bias_initializer=initialize_bias, kernel_regularizer=l2(2e-4)))\n",
        "    model.add(MaxPooling2D())\n",
        "    \n",
        "    model.add(BatchNormalization())\n",
        "    model.add(Conv2D(256, (5,5), activation='relu', kernel_initializer=initialize_weights,\n",
        "                     bias_initializer=initialize_bias, kernel_regularizer=l2(2e-4)))\n",
        "    model.add(MaxPooling2D())\n",
        "\n",
        "    model.add(BatchNormalization())\n",
        "    \n",
        "    model.add(Conv2D(256, (3,3), activation='relu', kernel_initializer=initialize_weights,\n",
        "                     bias_initializer=initialize_bias, kernel_regularizer=l2(2e-4)))\n",
        "    model.add(MaxPooling2D(1))\n",
        "    \n",
        "    model.add(BatchNormalization())\n",
        "\n",
        "    model.add(Conv2D(512, (3,3), activation='relu', kernel_initializer=initialize_weights,\n",
        "                     bias_initializer=initialize_bias, kernel_regularizer=l2(2e-4)))\n",
        "    model.add(MaxPooling2D(1))\n",
        "    \n",
        "    model.add(BatchNormalization())\n",
        "    \n",
        "    model.add(Conv2D(1024, (1,1), activation='relu', kernel_initializer=initialize_weights,\n",
        "                     bias_initializer=initialize_bias, kernel_regularizer=l2(2e-4)))\n",
        "    model.add(BatchNormalization())\n",
        "\n",
        "    \n",
        "    model.add(Flatten())\n",
        "    \n",
        "    model.add(Dense(4096, activation='relu',\n",
        "                   kernel_regularizer=l2(1e-3),\n",
        "                   kernel_initializer=initialize_weights,bias_initializer=initialize_bias))\n",
        "    \n",
        "    model.add(Dense(4096, activation='relu',\n",
        "                   kernel_regularizer=l2(1e-3),\n",
        "                   kernel_initializer=initialize_weights,bias_initializer=initialize_bias))\n",
        "    \n",
        "    # Generate the encodings (feature vectors) for the two images\n",
        "    encoded_l = model(left_input)\n",
        "    encoded_r = model(right_input)\n",
        "    \n",
        "    # Add a customized layer to compute the absolute difference between the encodings\n",
        "    L1_layer = Lambda(lambda tensors:K.abs(tensors[0] - tensors[1]))\n",
        "    L1_distance = L1_layer([encoded_l, encoded_r])\n",
        "    \n",
        "    # Add a dense layer with a sigmoid unit to generate the similarity score\n",
        "    prediction = Dense(1,activation='sigmoid',bias_initializer=initialize_bias)(L1_distance)\n",
        "    \n",
        "    # Connect the inputs with the outputs\n",
        "    siamese_net = Model(inputs=[left_input,right_input],outputs=prediction)\n",
        "    \n",
        "    # return the model\n",
        "    return siamese_net"
      ],
      "execution_count": 0,
      "outputs": []
    },
    {
      "cell_type": "code",
      "metadata": {
        "id": "ySOBKj6GDa61",
        "colab_type": "code",
        "colab": {}
      },
      "source": [
        "model=get_siamese_model(input_shape)"
      ],
      "execution_count": 0,
      "outputs": []
    },
    {
      "cell_type": "code",
      "metadata": {
        "id": "iimBLzKVGEnK",
        "colab_type": "code",
        "colab": {}
      },
      "source": [
        "optimizer = Adam(lr = 0.00006)\n",
        "model.compile(loss=\"binary_crossentropy\",optimizer=optimizer)"
      ],
      "execution_count": 0,
      "outputs": []
    },
    {
      "cell_type": "code",
      "metadata": {
        "id": "y96TZL-SOmFi",
        "colab_type": "code",
        "colab": {}
      },
      "source": [
        "def test_nway(n):\n",
        "  n_category,n_examples,w,h=xval.shape\n",
        "\n",
        "  test_cat=np.random.choice(n_category,replace=False)\n",
        "  test_id=np.random.randint(0,n_examples)\n",
        "\n",
        "  support_cat=test_cat\n",
        "  support_id=np.random.randint(0,n_examples)\n",
        "  \n",
        "  pairs=[np.zeros((n,w,h,1)) for i in range(2)]\n",
        "\n",
        "  pairs[0][0,:,:,:]=xval[test_cat,test_id,:,:].reshape(w,h,1)\n",
        "  pairs[1][0,:,:,:]=xval[support_cat,support_id,:,:].reshape(w,h,1)\n",
        "\n",
        "  for i in range(1,n-1):\n",
        "    support_cat=np.random.choice(n_category,replace=False)\n",
        "    if support_cat==test_cat:\n",
        "      while support_cat==test_cat:\n",
        "        support_cat=np.random.choice(n_category,replace=False)\n",
        "    support_id=np.random.randint(0,n_examples)\n",
        "\n",
        "    pairs[0][i,:,:,:]=xval[test_cat,test_id,:,:].reshape(w,h,1)\n",
        "    pairs[1][i,:,:,:]=xval[support_cat,support_id,:,:].reshape(w,h,1)\n",
        "  \n",
        "  preds=model.predict(pairs)\n",
        "  \n",
        "  if np.argmax(preds)==0:\n",
        "    return True\n",
        "  else:\n",
        "    return False"
      ],
      "execution_count": 0,
      "outputs": []
    },
    {
      "cell_type": "code",
      "metadata": {
        "id": "vXm7YOoY0r2z",
        "colab_type": "code",
        "colab": {}
      },
      "source": [
        "def get_nway_acc(n,trials):\n",
        "  correct=0.0\n",
        "  for i in range(trials):\n",
        "    if test_nway(n):\n",
        "      correct=correct+1\n",
        "  return 100*(correct/float(trials))"
      ],
      "execution_count": 0,
      "outputs": []
    },
    {
      "cell_type": "code",
      "metadata": {
        "id": "ptAV38RY1ZQm",
        "colab_type": "code",
        "colab": {
          "base_uri": "https://localhost:8080/",
          "height": 1000
        },
        "outputId": "4ddd6c0b-055d-4e49-b7e9-2f1c2f1b270c"
      },
      "source": [
        "print(\"Starting training process!\")\n",
        "t_start = time.time()\n",
        "acc=[]\n",
        "losses=[]\n",
        "for i in range(epochs):\n",
        "  (inputs,targets) = get_batch(batch_size)\n",
        "  loss = model.train_on_batch(inputs, targets)\n",
        "  if i % 300 == 0:\n",
        "        print(\"Time for {0} iterations: {1} mins\".format(i+1, (time.time()-t_start)//60.0))\n",
        "        print(\"Train Loss: {0}\".format(loss)) \n",
        "        val_acc = round(get_nway_acc(n_way, n_way_trials),2)\n",
        "        losses.append(loss)\n",
        "        print('The 20-way with 250 trials validation accuracy is:',val_acc)\n",
        "        print('\\n')\n",
        "        acc.append(val_acc)"
      ],
      "execution_count": 0,
      "outputs": [
        {
          "output_type": "stream",
          "text": [
            "Starting training process!\n",
            "Time for 1 iterations: 0.0 mins\n",
            "Train Loss: 13.029755592346191\n",
            "The 20-way with 250 trials validation accuracy is: 5.6\n",
            "\n",
            "\n",
            "Time for 301 iterations: 1.0 mins\n",
            "Train Loss: 11.823956489562988\n",
            "The 20-way with 250 trials validation accuracy is: 31.2\n",
            "\n",
            "\n",
            "Time for 601 iterations: 2.0 mins\n",
            "Train Loss: 10.821138381958008\n",
            "The 20-way with 250 trials validation accuracy is: 37.2\n",
            "\n",
            "\n",
            "Time for 901 iterations: 3.0 mins\n",
            "Train Loss: 9.852643966674805\n",
            "The 20-way with 250 trials validation accuracy is: 40.0\n",
            "\n",
            "\n",
            "Time for 1201 iterations: 4.0 mins\n",
            "Train Loss: 8.35793399810791\n",
            "The 20-way with 250 trials validation accuracy is: 43.6\n",
            "\n",
            "\n",
            "Time for 1501 iterations: 6.0 mins\n",
            "Train Loss: 7.342257976531982\n",
            "The 20-way with 250 trials validation accuracy is: 47.6\n",
            "\n",
            "\n",
            "Time for 1801 iterations: 7.0 mins\n",
            "Train Loss: 6.402647972106934\n",
            "The 20-way with 250 trials validation accuracy is: 46.8\n",
            "\n",
            "\n",
            "Time for 2101 iterations: 8.0 mins\n",
            "Train Loss: 5.485832214355469\n",
            "The 20-way with 250 trials validation accuracy is: 47.6\n",
            "\n",
            "\n",
            "Time for 2401 iterations: 9.0 mins\n",
            "Train Loss: 4.901486873626709\n",
            "The 20-way with 250 trials validation accuracy is: 51.6\n",
            "\n",
            "\n",
            "Time for 2701 iterations: 10.0 mins\n",
            "Train Loss: 4.045729637145996\n",
            "The 20-way with 250 trials validation accuracy is: 44.4\n",
            "\n",
            "\n",
            "Time for 3001 iterations: 11.0 mins\n",
            "Train Loss: 3.6444296836853027\n",
            "The 20-way with 250 trials validation accuracy is: 46.4\n",
            "\n",
            "\n",
            "Time for 3301 iterations: 13.0 mins\n",
            "Train Loss: 2.841729164123535\n",
            "The 20-way with 250 trials validation accuracy is: 38.8\n",
            "\n",
            "\n",
            "Time for 3601 iterations: 14.0 mins\n",
            "Train Loss: 2.453914165496826\n",
            "The 20-way with 250 trials validation accuracy is: 45.6\n",
            "\n",
            "\n",
            "Time for 3901 iterations: 15.0 mins\n",
            "Train Loss: 2.0589559078216553\n",
            "The 20-way with 250 trials validation accuracy is: 49.6\n",
            "\n",
            "\n",
            "Time for 4201 iterations: 16.0 mins\n",
            "Train Loss: 1.7433922290802002\n",
            "The 20-way with 250 trials validation accuracy is: 48.8\n",
            "\n",
            "\n",
            "Time for 4501 iterations: 17.0 mins\n",
            "Train Loss: 1.5902438163757324\n",
            "The 20-way with 250 trials validation accuracy is: 35.6\n",
            "\n",
            "\n",
            "Time for 4801 iterations: 19.0 mins\n",
            "Train Loss: 1.3092643022537231\n",
            "The 20-way with 250 trials validation accuracy is: 25.2\n",
            "\n",
            "\n",
            "Time for 5101 iterations: 20.0 mins\n",
            "Train Loss: 1.185841679573059\n",
            "The 20-way with 250 trials validation accuracy is: 54.8\n",
            "\n",
            "\n",
            "Time for 5401 iterations: 21.0 mins\n",
            "Train Loss: 0.9876571893692017\n",
            "The 20-way with 250 trials validation accuracy is: 54.4\n",
            "\n",
            "\n",
            "Time for 5701 iterations: 22.0 mins\n",
            "Train Loss: 1.0583490133285522\n",
            "The 20-way with 250 trials validation accuracy is: 43.2\n",
            "\n",
            "\n",
            "Time for 6001 iterations: 23.0 mins\n",
            "Train Loss: 0.8514949083328247\n",
            "The 20-way with 250 trials validation accuracy is: 58.4\n",
            "\n",
            "\n",
            "Time for 6301 iterations: 25.0 mins\n",
            "Train Loss: 0.7826573848724365\n",
            "The 20-way with 250 trials validation accuracy is: 57.6\n",
            "\n",
            "\n",
            "Time for 6601 iterations: 26.0 mins\n",
            "Train Loss: 0.8023639917373657\n",
            "The 20-way with 250 trials validation accuracy is: 50.0\n",
            "\n",
            "\n",
            "Time for 6901 iterations: 27.0 mins\n",
            "Train Loss: 0.7775393128395081\n",
            "The 20-way with 250 trials validation accuracy is: 44.4\n",
            "\n",
            "\n",
            "Time for 7201 iterations: 28.0 mins\n",
            "Train Loss: 0.6384817361831665\n",
            "The 20-way with 250 trials validation accuracy is: 65.6\n",
            "\n",
            "\n",
            "Time for 7501 iterations: 29.0 mins\n",
            "Train Loss: 0.7814257144927979\n",
            "The 20-way with 250 trials validation accuracy is: 51.6\n",
            "\n",
            "\n",
            "Time for 7801 iterations: 31.0 mins\n",
            "Train Loss: 0.5919678211212158\n",
            "The 20-way with 250 trials validation accuracy is: 64.8\n",
            "\n",
            "\n",
            "Time for 8101 iterations: 32.0 mins\n",
            "Train Loss: 0.6932703852653503\n",
            "The 20-way with 250 trials validation accuracy is: 56.0\n",
            "\n",
            "\n",
            "Time for 8401 iterations: 33.0 mins\n",
            "Train Loss: 0.6303790211677551\n",
            "The 20-way with 250 trials validation accuracy is: 48.8\n",
            "\n",
            "\n",
            "Time for 8701 iterations: 34.0 mins\n",
            "Train Loss: 0.5045840740203857\n",
            "The 20-way with 250 trials validation accuracy is: 58.0\n",
            "\n",
            "\n",
            "Time for 9001 iterations: 35.0 mins\n",
            "Train Loss: 0.8082876205444336\n",
            "The 20-way with 250 trials validation accuracy is: 49.2\n",
            "\n",
            "\n",
            "Time for 9301 iterations: 37.0 mins\n",
            "Train Loss: 0.542980432510376\n",
            "The 20-way with 250 trials validation accuracy is: 23.2\n",
            "\n",
            "\n",
            "Time for 9601 iterations: 38.0 mins\n",
            "Train Loss: 0.49747222661972046\n",
            "The 20-way with 250 trials validation accuracy is: 47.6\n",
            "\n",
            "\n",
            "Time for 9901 iterations: 39.0 mins\n",
            "Train Loss: 0.572609007358551\n",
            "The 20-way with 250 trials validation accuracy is: 66.4\n",
            "\n",
            "\n",
            "Time for 10201 iterations: 40.0 mins\n",
            "Train Loss: 0.48862019181251526\n",
            "The 20-way with 250 trials validation accuracy is: 61.2\n",
            "\n",
            "\n"
          ],
          "name": "stdout"
        }
      ]
    },
    {
      "cell_type": "code",
      "metadata": {
        "id": "_LgYEawJrUXu",
        "colab_type": "code",
        "colab": {}
      },
      "source": [
        "import matplotlib.pyplot as plt\n",
        "\n",
        "plt.plot(range(1,20000,300),acc)\n",
        "plt.title('Val Accuracy')\n",
        "plt.xlabel('Epochs')\n",
        "plt.ylabel('Accuracy')"
      ],
      "execution_count": 0,
      "outputs": []
    },
    {
      "cell_type": "code",
      "metadata": {
        "id": "a4FLgXWurrPL",
        "colab_type": "code",
        "colab": {}
      },
      "source": [
        "import matplotlib.pyplot as plt\n",
        "\n",
        "plt.plot(range(1,20000,300),losses)\n",
        "plt.title('Training Loss')\n",
        "plt.xlabel('Epochs')\n",
        "plt.ylabel('Loss')"
      ],
      "execution_count": 0,
      "outputs": []
    },
    {
      "cell_type": "code",
      "metadata": {
        "id": "6__xcK0Gu2lg",
        "colab_type": "code",
        "colab": {}
      },
      "source": [
        "def knn_acc(n,k):\n",
        "\n",
        "  correct=0.0\n",
        "\n",
        "  for i in range(k):\n",
        "\n",
        "    pairs,_=get_batch(n,'val')\n",
        "\n",
        "    distance=[]\n",
        "\n",
        "    for i in range(n):\n",
        "      img1=np.flatten(pairs[0][i])\n",
        "      img2=np.flatten(pairs[1][i])\n",
        "\n",
        "      distance.append(np.sqrt(np.sum((img1-img2)**2)))\n",
        "    \n",
        "    preds=model.predict(pairs)\n",
        "\n",
        "    if np.argmax(preds)==np.argmin(distance):\n",
        "      correct=correct+1\n",
        "    \n",
        "  return round(100*(correct/float(k)),2)\n"
      ],
      "execution_count": 0,
      "outputs": []
    }
  ]
}